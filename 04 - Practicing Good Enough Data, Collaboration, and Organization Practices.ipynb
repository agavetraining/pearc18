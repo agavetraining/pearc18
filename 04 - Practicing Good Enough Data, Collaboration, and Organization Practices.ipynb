{
 "cells": [
  {
   "cell_type": "markdown",
   "metadata": {},
   "source": [
    "# Good Enough Practices for Scientific Computing\n",
    "\n",
    "Building on our [Code, Build, and Test.ipynb] notebook, we will introduce some best practices to help us improve our existing workflow and build towards a reproducible developement cycle. The following suggestions follow largely from \"[Good Enough Practices in Scientific Computing](https://swcarpentry.github.io/good-enough-practices-in-scientific-computing/)\".\n",
    "\n",
    "    Wilson, Greg, Jennifer Bryan, Karen Cranston, Justin Kitzes, Lex Nederbragt, and Tracy K. Teal. “Good Enough Practices in Scientific Computing.” CoRR abs/1609.00037 (2016). http://arxiv.org/abs/1609.00037.\n",
    "\n"
   ]
  },
  {
   "cell_type": "markdown",
   "metadata": {},
   "source": [
    "### Data Management\n",
    "\n",
    "#### Save the raw data and ensure that raw data is backed up in more than one location.\n",
    "\n",
    "\n",
    "#### Create the data you wish to see in the world  \n",
    "\n",
    "\n",
    "#### Create analysis-friendly data  \n",
    "\n",
    "\n",
    "#### Record all the steps used to process data  \n",
    "\n",
    "\n",
    "#### Submit data to a reputable DOI-issuing repository so that others can access and cite it\n"
   ]
  },
  {
   "cell_type": "markdown",
   "metadata": {},
   "source": [
    "### Collaboration  \n",
    "\n",
    "\n",
    "#### Create an overview of your project\n",
    "\n",
    "\n",
    "#### Create a shared \"to-do\" list   \n",
    "\n",
    "\n",
    "#### Decide on communication strategies  \n",
    "\n",
    "\n",
    "#### Make the license explicit   \n",
    "\n",
    "\n",
    "#### Make the project citable  \n",
    "\n",
    "\n"
   ]
  },
  {
   "cell_type": "markdown",
   "metadata": {},
   "source": [
    "### Project Organization  \n",
    "\n",
    "\n",
    "#### Put each project in its own directory, which is named after the project  \n",
    "\n",
    "\n",
    "#### Put text documents associated with the project in the doc directory    \n",
    "\n",
    "\n",
    "#### Put raw data and metadata in a data directory, and files generated during cleanup and analysis in a results directory\n",
    "\n",
    "\n",
    "#### Put project source code in the src directory  \n",
    "\n",
    "\n",
    "#### Put compiled programs in the bin directory  \n",
    "\n",
    "\n",
    "#### Name all files to reflect their content or function   \n",
    "\n",
    "\n"
   ]
  },
  {
   "cell_type": "code",
   "execution_count": null,
   "metadata": {
    "collapsed": true
   },
   "outputs": [],
   "source": []
  }
 ],
 "metadata": {
  "kernelspec": {
   "display_name": "Python 3",
   "language": "python",
   "name": "python3"
  },
  "language_info": {
   "codemirror_mode": {
    "name": "ipython",
    "version": 3
   },
   "file_extension": ".py",
   "mimetype": "text/x-python",
   "name": "python",
   "nbconvert_exporter": "python",
   "pygments_lexer": "ipython3",
   "version": "3.6.2"
  }
 },
 "nbformat": 4,
 "nbformat_minor": 1
}
