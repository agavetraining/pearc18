{
 "cells": [
  {
   "cell_type": "markdown",
   "metadata": {},
   "source": [
    "## Setting Stuff Up \n",
    "\n",
    "Here we import some packages that we'll need in various places. This notebooks is not necessary to run if following along with the tutorials in order, or when using the hosted training sandbox. If you are skipping around between notebooks or are recreating your environment with Docker Compose, you can rerun this notebook to bootstrap your environment with the various files, templates, and python modules created "
   ]
  },
  {
   "cell_type": "code",
   "execution_count": 43,
   "metadata": {},
   "outputs": [
    {
     "name": "stdout",
     "output_type": "stream",
     "text": [
      "/home/jovyan/agave\n"
     ]
    }
   ],
   "source": [
    "!mkdir -p ~/agave\n",
    "\n",
    "%cd ~/agave\n",
    "\n",
    "!pip -qqq install --upgrade setvar \n",
    "\n",
    "import re\n",
    "import os\n",
    "import sys\n",
    "import json\n",
    "from setvar import *\n",
    "from time import sleep\n"
   ]
  },
  {
   "cell_type": "markdown",
   "metadata": {},
   "source": [
    "<h2>Set Variables</h2>\n",
    "\n",
    "The setvar() package gives us a bash-like way of setting environment variables in Python. It's a lot easier to type `PORT=10022` than it is to type `os.environ[\"PORT\"]=\"10022\"`. The setvar package also supports comments and running a command in the background and getting its output."
   ]
  },
  {
   "cell_type": "code",
   "execution_count": 74,
   "metadata": {},
   "outputs": [
    {
     "name": "stdout",
     "output_type": "stream",
     "text": [
      "AGAVE_APP_NAME=training-dooley\n",
      "AGAVE_STORAGE_SYSTEM_ID=sandbox-storage-dooley\n",
      "AGAVE_EXECUTION_SYSTEM_ID=sandbox-exec-dooley\n",
      "AGAVE_SYSTEM_SITE_DOMAIN=localdomain\n",
      "MACHINE_NAME=sandbox\n",
      "MACHINE_USERNAME=jovyan\n",
      "AGAVE_STORAGE_HOME_DIR=/home/jovyan\n",
      "SCRATCH_DIR=/home/jovyan\n",
      "AGAVE_STORAGE_WORK_DIR=/home/jovyan\n",
      "AGAVE_APP_DEPLOYMENT_PATH=agave-deploy\n",
      "AGAVE_APP_DEPLOYMENT_PATH=agave-deploy\n",
      "AGAVE_APP_NAME=training-dooley\n",
      "AGAVE_EXECUTION_SYSTEM_ID=sandbox-exec-dooley\n",
      "AGAVE_STORAGE_HOME_DIR=/home/jovyan\n",
      "AGAVE_STORAGE_SYSTEM_ID=sandbox-storage-dooley\n",
      "AGAVE_STORAGE_WORK_DIR=/home/jovyan\n",
      "AGAVE_SYSTEM_SITE_DOMAIN=localdomain\n",
      "CMD=jobs-output-get 1163765710547775000-242ac114-0001-007 fork-command-1.out\n",
      "INPUTS={}\n",
      "JOB_FILE=job-remote-5058.txt\n",
      "JOB_ID=1163765710547775000-242ac114-0001-007\n",
      "MACHINE_NAME=sandbox\n",
      "MACHINE_USERNAME=jovyan\n",
      "OUTPUT=Successfully submitted job 1163765710547775000-242ac114-0001-007\n",
      "PBTOK=\n",
      "REMOTE_COMMAND=ls /usr/install\n",
      "REQUESTBIN_URL=https://requestbin.agaveapi.co/1880ovh1\n",
      "SCRATCH_DIR=/home/jovyan\n",
      "STAT=FINISHED\n",
      "VM_IPADDRESS=52.15.183.149\n"
     ]
    }
   ],
   "source": [
    "setvar(\"\"\"\n",
    "AGAVE_APP_NAME=training-${AGAVE_USERNAME}\n",
    "AGAVE_STORAGE_SYSTEM_ID=sandbox-storage-${AGAVE_USERNAME}\n",
    "AGAVE_EXECUTION_SYSTEM_ID=sandbox-exec-${AGAVE_USERNAME}\n",
    "AGAVE_SYSTEM_SITE_DOMAIN=localdomain\n",
    "MACHINE_NAME=sandbox\n",
    "MACHINE_USERNAME=jovyan\n",
    "AGAVE_STORAGE_HOME_DIR=/home/${MACHINE_USERNAME}\n",
    "SCRATCH_DIR=/home/${MACHINE_USERNAME}\n",
    "AGAVE_STORAGE_WORK_DIR=/home/${MACHINE_USERNAME}\n",
    "AGAVE_APP_DEPLOYMENT_PATH=agave-deploy\n",
    "\"\"\")\n",
    "loadvar()"
   ]
  },
  {
   "cell_type": "markdown",
   "metadata": {},
   "source": [
    "If you are running locally using Docker Compose, you will need to pull the ip and port of your reverse tunnel from the sandbox. Uncomment the following command, and enter below"
   ]
  },
  {
   "cell_type": "code",
   "execution_count": 75,
   "metadata": {},
   "outputs": [
    {
     "name": "stdout",
     "output_type": "stream",
     "text": [
      "Reading file `ngrok_port.txt'\n",
      "Reading file `ngrok_host.txt'\n",
      "Reading file `ngrok_host.txt'\n",
      "Reading file `ngrok_port.txt'\n",
      "VM_PORT=15477\n",
      "VM_MACHINE=0.tcp.ngrok.io\n",
      "VM_IPADDRESS=18.216.53.253\n"
     ]
    }
   ],
   "source": [
    "if os.environ.get('USE_TUNNEL') == 'True': \n",
    "    # fetch the hostname and port of the reverse tunnel running in the sandbox \n",
    "    # so Agave can connect to our local sandbox\n",
    "    !echo $(ssh -q -o StrictHostKeyChecking=no -o UserKnownHostsFile=/dev/null sandbox 'curl -s  http://localhost:4040/api/tunnels | jq -r '.tunnels[0].public_url'') > ngrok_url.txt  \n",
    "    !cat ngrok_url.txt | sed 's|^tcp://||' | sed -r 's#(.*):(.*)#\\1#' > ngrok_host.txt\n",
    "    !cat ngrok_url.txt | sed 's|^tcp://||' | sed -r 's#(.*):(.*)#\\2#' > ngrok_port.txt\n",
    "\n",
    "    # set the environment variables otherwise set when running in a training cluster\n",
    "    os.environ['VM_PORT'] = readfile('ngrok_port.txt').strip()\n",
    "    os.environ['VM_MACHINE'] = readfile('ngrok_host.txt').strip()\n",
    "    os.environ['AGAVE_SYSTEM_HOST'] = readfile('ngrok_host.txt').strip()\n",
    "    os.environ['AGAVE_SYSTEM_PORT'] = readfile('ngrok_port.txt').strip()\n",
    "    !echo \"VM_PORT=$VM_PORT\"\n",
    "    !echo \"VM_MACHINE=$VM_MACHINE\"\n",
    "    setvar(\"VM_IPADDRESS=$(getent hosts ${VM_MACHINE}|cut -d' ' -f1)\")"
   ]
  },
  {
   "cell_type": "markdown",
   "metadata": {},
   "source": [
    "<h2>PushBullet</h2>\n",
    "If you wish to use pushbullet to receive status updates, then run the cell below and enter your pushbullet token."
   ]
  },
  {
   "cell_type": "code",
   "execution_count": 46,
   "metadata": {},
   "outputs": [
    {
     "name": "stdout",
     "output_type": "stream",
     "text": [
      "Password or secret: PBTOK\n",
      "Reading file `PBTOK.txt'\n"
     ]
    }
   ],
   "source": [
    "readpass(\"PBTOK\")"
   ]
  },
  {
   "cell_type": "markdown",
   "metadata": {},
   "source": [
    "<h2>Agave Password</h2>\n",
    "\n",
    "We'll be running several commands that require the Agave password. We'll store it here for convenience."
   ]
  },
  {
   "cell_type": "code",
   "execution_count": 47,
   "metadata": {},
   "outputs": [],
   "source": [
    "if not os.environ['AGAVE_PASSWORD']:\n",
    "    readpass(\"AGAVE_PASSWORD\")"
   ]
  },
  {
   "cell_type": "markdown",
   "metadata": {},
   "source": [
    "<h2>Setting up Agave</h2>\n",
    "Agave uses machines called \"tenants\" to manage user login and authentication. In this step, we tell Agave we are using the standard proction tenant."
   ]
  },
  {
   "cell_type": "code",
   "execution_count": 48,
   "metadata": {},
   "outputs": [
    {
     "name": "stdout",
     "output_type": "stream",
     "text": [
      "\u001b[1;0mYou are now configured to interact with the APIs at https://sandbox.agaveplatform.org/\u001b[0m\r\n"
     ]
    }
   ],
   "source": [
    "!tenants-init"
   ]
  },
  {
   "cell_type": "markdown",
   "metadata": {},
   "source": [
    "<h3>Create the Client</h3>"
   ]
  },
  {
   "cell_type": "markdown",
   "metadata": {},
   "source": [
    "In this next step we delete the client if it exists. Chances are, yours doesn't yet. We put this command here in case, for some reason, you want to re-create your client later on. If you delete the client you intend to create before you create it, no harm is done."
   ]
  },
  {
   "cell_type": "code",
   "execution_count": 82,
   "metadata": {},
   "outputs": [
    {
     "name": "stdout",
     "output_type": "stream",
     "text": [
      "\u001b[1;0mSuccessfully deleted client training-dooley\u001b[0m\r\n"
     ]
    }
   ],
   "source": [
    "!clients-delete -u $AGAVE_USERNAME -p \"$AGAVE_PASSWORD\" $AGAVE_APP_NAME"
   ]
  },
  {
   "cell_type": "markdown",
   "metadata": {},
   "source": [
    "In this step we create the client. Clients provide a way of encapsulating resources connected to a single project. Through the client, you will receive a token which you can use to run most of the Agave commands."
   ]
  },
  {
   "cell_type": "code",
   "execution_count": 83,
   "metadata": {},
   "outputs": [
    {
     "name": "stdout",
     "output_type": "stream",
     "text": [
      "\u001b[1;0m\u001b[1;0mSuccessfully created client training-dooley\r\n",
      "key: zTCmEHEzxouGuepqMz_sbZikcrka \r\n",
      "secret: Nf83ghK3_KdXG5Q89kPUkYg6zeca\u001b[0m\u001b[0m\r\n"
     ]
    }
   ],
   "source": [
    "!clients-create -u $AGAVE_USERNAME -p $AGAVE_PASSWORD -N $AGAVE_APP_NAME -S"
   ]
  },
  {
   "cell_type": "code",
   "execution_count": 84,
   "metadata": {},
   "outputs": [
    {
     "name": "stdout",
     "output_type": "stream",
     "text": [
      "clients-subscriptions-update -N tags training-dooley\n",
      "\n",
      "clients-subscriptions-update -N uuids training-dooley\n",
      "\n",
      "clients-subscriptions-update -N tenants training-dooley\n",
      "\n"
     ]
    }
   ],
   "source": [
    "%%bash\n",
    "# # subscribe to optional APIs.\n",
    "for apiName in tags uuids tenants; \n",
    "do \n",
    "    echo \"clients-subscriptions-update -N $apiName $AGAVE_APP_NAME\"\n",
    "    clients-subscriptions-update -N $apiName $AGAVE_APP_NAME\n",
    "done\n"
   ]
  },
  {
   "cell_type": "code",
   "execution_count": 86,
   "metadata": {},
   "outputs": [
    {
     "name": "stdout",
     "output_type": "stream",
     "text": [
      "\u001b[1;0mApps\r\n",
      "Files\r\n",
      "Jobs\r\n",
      "Meta\r\n",
      "Monitors\r\n",
      "Notifications\r\n",
      "Postits\r\n",
      "Profiles\r\n",
      "Systems\r\n",
      "Transforms\r\n",
      "Tags\r\n",
      "UUIDs\r\n",
      "Tenants\u001b[0m\r\n"
     ]
    }
   ],
   "source": [
    "!clients-subscriptions-list $AGAVE_APP_NAME"
   ]
  },
  {
   "cell_type": "markdown",
   "metadata": {},
   "source": [
    "Create the token for your client. You will, from this point on, use this token to run the remainder of the Agave commands in this tutorial."
   ]
  },
  {
   "cell_type": "code",
   "execution_count": 87,
   "metadata": {},
   "outputs": [
    {
     "name": "stdout",
     "output_type": "stream",
     "text": [
      "\u001b[1;0mToken for sandbox:dooley successfully refreshed and cached for 14400 seconds\r\n",
      "3bc05488aef93f114422a933db183a8a\u001b[0m\r\n"
     ]
    }
   ],
   "source": [
    "!auth-tokens-create -u $AGAVE_USERNAME -p \"$AGAVE_PASSWORD\""
   ]
  },
  {
   "cell_type": "markdown",
   "metadata": {
    "collapsed": true
   },
   "source": [
    "## Setup Systems & Apps"
   ]
  },
  {
   "cell_type": "code",
   "execution_count": 26,
   "metadata": {},
   "outputs": [
    {
     "name": "stdout",
     "output_type": "stream",
     "text": [
      "Reading file `/home/jovyan/key/id_rsa.pub.txt'\n",
      "Reading file `/home/jovyan/key/id_rsa.txt'\n"
     ]
    }
   ],
   "source": [
    "!mkdir -p ~/key\n",
    "!chmod 700 ~/key\n",
    "!jsonpki --public ~/.ssh/id_rsa.pub > ~/key/id_rsa.pub.txt\n",
    "!jsonpki --private ~/.ssh/id_rsa > ~/key/id_rsa.txt\n",
    "os.environ[\"PUB_KEY\"]=readfile(\"${HOME}/key/id_rsa.pub.txt\").strip()\n",
    "os.environ[\"PRIV_KEY\"]=readfile(\"${HOME}/key/id_rsa.txt\").strip()"
   ]
  },
  {
   "cell_type": "markdown",
   "metadata": {},
   "source": [
    "### Storage system"
   ]
  },
  {
   "cell_type": "code",
   "execution_count": 28,
   "metadata": {},
   "outputs": [
    {
     "name": "stdout",
     "output_type": "stream",
     "text": [
      "Writing file `sandbox-storage-dooley.txt'\n",
      "\u001b[1;0m{\n",
      "  \"owner\": \"dooley\",\n",
      "  \"_links\": {\n",
      "    \"owner\": {\n",
      "      \"href\": \"https://sandbox.agaveplatform.org/profiles/v2/dooley\"\n",
      "    },\n",
      "    \"metadata\": {\n",
      "      \"href\": \"https://sandbox.agaveplatform.org/meta/v2/data/?q=%7B%22associationIds%22%3A%228871979044684033560-242ac11b-0001-006%22%7D\"\n",
      "    },\n",
      "    \"credentials\": {\n",
      "      \"href\": \"https://sandbox.agaveplatform.org/systems/v2/sandbox-storage-dooley/credentials\"\n",
      "    },\n",
      "    \"roles\": {\n",
      "      \"href\": \"https://sandbox.agaveplatform.org/systems/v2/sandbox-storage-dooley/roles\"\n",
      "    },\n",
      "    \"self\": {\n",
      "      \"href\": \"https://sandbox.agaveplatform.org/systems/v2/sandbox-storage-dooley\"\n",
      "    }\n",
      "  },\n",
      "  \"available\": true,\n",
      "  \"description\": \"The sandbox computer\",\n",
      "  \"storage\": {\n",
      "    \"proxy\": null,\n",
      "    \"protocol\": \"SFTP\",\n",
      "    \"mirror\": false,\n",
      "    \"port\": 15477,\n",
      "    \"auth\": {\n",
      "      \"type\": \"SSHKEYS\"\n",
      "    },\n",
      "    \"publicAppsDir\": null,\n",
      "    \"host\": \"0.tcp.ngrok.io\",\n",
      "    \"rootDir\": \"/\",\n",
      "    \"homeDir\": \"/home/jovyan\"\n",
      "  },\n",
      "  \"type\": \"STORAGE\",\n",
      "  \"uuid\": \"8871979044684033560-242ac11b-0001-006\",\n",
      "  \"revision\": 21,\n",
      "  \"site\": \"localdomain\",\n",
      "  \"default\": false,\n",
      "  \"public\": false,\n",
      "  \"globalDefault\": false,\n",
      "  \"name\": \"sandbox storage (jovyan)\",\n",
      "  \"id\": \"sandbox-storage-dooley\",\n",
      "  \"lastModified\": \"2018-07-20T21:15:09.056-05:00\",\n",
      "  \"status\": \"UP\"\n",
      "}\u001b[0m\n"
     ]
    }
   ],
   "source": [
    "writefile(\"${AGAVE_STORAGE_SYSTEM_ID}.txt\",\"\"\"{\n",
    "    \"id\": \"${AGAVE_STORAGE_SYSTEM_ID}\",\n",
    "    \"name\": \"${MACHINE_NAME} storage (${MACHINE_USERNAME})\",\n",
    "    \"description\": \"The ${MACHINE_NAME} computer\",\n",
    "    \"site\": \"${AGAVE_SYSTEM_SITE_DOMAIN}\",\n",
    "    \"type\": \"STORAGE\",\n",
    "    \"storage\": {\n",
    "        \"host\": \"${AGAVE_SYSTEM_HOST}\",\n",
    "        \"port\": ${AGAVE_SYSTEM_PORT},\n",
    "        \"protocol\": \"SFTP\",\n",
    "        \"rootDir\": \"/\",\n",
    "        \"homeDir\": \"${AGAVE_STORAGE_HOME_DIR}\",\n",
    "        \"auth\": {\n",
    "          \"username\" : \"${MACHINE_USERNAME}\",\n",
    "          \"publicKey\" : \"${PUB_KEY}\",\n",
    "          \"privateKey\" : \"${PRIV_KEY}\",\n",
    "          \"type\" : \"SSHKEYS\"\n",
    "        }\n",
    "    }\n",
    "}\n",
    "\"\"\")\n",
    "!systems-addupdate -v -F ${AGAVE_STORAGE_SYSTEM_ID}.txt"
   ]
  },
  {
   "cell_type": "markdown",
   "metadata": {},
   "source": [
    "### Execution System"
   ]
  },
  {
   "cell_type": "code",
   "execution_count": 32,
   "metadata": {},
   "outputs": [
    {
     "name": "stdout",
     "output_type": "stream",
     "text": [
      "Writing file `sandbox-exec-dooley.txt'\n",
      "\u001b[1;0m\u001b[1;0mSuccessfully added system sandbox-exec-dooley\u001b[0m\u001b[0m\n"
     ]
    }
   ],
   "source": [
    "# Edit any parts of this file that you know need to be changed for your machine.\n",
    "writefile(\"${AGAVE_EXECUTION_SYSTEM_ID}.txt\",\"\"\"\n",
    "{\n",
    "    \"id\": \"${AGAVE_EXECUTION_SYSTEM_ID}\",\n",
    "    \"name\": \"${MACHINE_NAME} (${MACHINE_USERNAME})\",\n",
    "    \"description\": \"The ${MACHINE_NAME} computer\",\n",
    "    \"site\": \"${AGAVE_SYSTEM_SITE_DOMAIN}\",\n",
    "    \"public\": false,\n",
    "    \"status\": \"UP\",\n",
    "    \"type\": \"EXECUTION\",\n",
    "    \"executionType\": \"CLI\",\n",
    "    \"scheduler\" : \"FORK\",\n",
    "    \"environment\": null,\n",
    "    \"scratchDir\" : \"${SCRATCH_DIR}\",\n",
    "    \"queues\": [\n",
    "        {\n",
    "            \"name\": \"none\",\n",
    "            \"default\": true,\n",
    "            \"maxJobs\": 10,\n",
    "            \"maxUserJobs\": 10,\n",
    "            \"maxNodes\": 6,\n",
    "            \"maxProcessorsPerNode\": 6,\n",
    "            \"minProcessorsPerNode\": 1,\n",
    "            \"maxRequestedTime\": \"00:30:00\"\n",
    "        }\n",
    "    ],\n",
    "    \"login\": {\n",
    "        \"auth\": {\n",
    "          \"username\" : \"${MACHINE_USERNAME}\",\n",
    "          \"publicKey\" : \"${PUB_KEY}\",\n",
    "          \"privateKey\" : \"${PRIV_KEY}\",\n",
    "          \"type\" : \"SSHKEYS\"\n",
    "        },\n",
    "        \"host\": \"${AGAVE_SYSTEM_HOST}\",\n",
    "        \"port\": ${AGAVE_SYSTEM_PORT},\n",
    "        \"protocol\": \"SSH\"\n",
    "    },\n",
    "    \"maxSystemJobs\": 50,\n",
    "    \"maxSystemJobsPerUser\": 50,\n",
    "    \"storage\": {\n",
    "        \"host\": \"${AGAVE_SYSTEM_HOST}\",\n",
    "        \"port\": ${AGAVE_SYSTEM_PORT},\n",
    "        \"protocol\": \"SFTP\",\n",
    "        \"rootDir\": \"/\",\n",
    "        \"homeDir\": \"${AGAVE_STORAGE_HOME_DIR}\",\n",
    "        \"auth\": {\n",
    "          \"username\" : \"${MACHINE_USERNAME}\",\n",
    "          \"publicKey\" : \"${PUB_KEY}\",\n",
    "          \"privateKey\" : \"${PRIV_KEY}\",\n",
    "          \"type\" : \"SSHKEYS\"\n",
    "        }\n",
    "    },\n",
    "    \"workDir\": \"${AGAVE_STORAGE_WORK_DIR}\"\n",
    "}\"\"\")\n",
    "!systems-addupdate -F ${AGAVE_EXECUTION_SYSTEM_ID}.txt"
   ]
  },
  {
   "cell_type": "markdown",
   "metadata": {},
   "source": [
    "## App registration"
   ]
  },
  {
   "cell_type": "code",
   "execution_count": 33,
   "metadata": {},
   "outputs": [
    {
     "name": "stdout",
     "output_type": "stream",
     "text": [
      "Writing file `fork-app.txt'\n",
      "Writing file `fork-wrapper.txt'\n",
      "Writing file `fork-test.txt'\n"
     ]
    }
   ],
   "source": [
    "writefile(\"fork-app.txt\",\"\"\"\n",
    "{  \n",
    "   \"name\":\"${AGAVE_USERNAME}-${MACHINE_NAME}-fork\",\n",
    "   \"version\":\"1.0\",\n",
    "   \"label\":\"Runs a command\",\n",
    "   \"shortDescription\":\"Runs a command\",\n",
    "   \"longDescription\":\"\",\n",
    "   \"deploymentSystem\":\"${AGAVE_STORAGE_SYSTEM_ID}\",\n",
    "   \"deploymentPath\":\"${AGAVE_APP_DEPLOYMENT_PATH}\",\n",
    "   \"templatePath\":\"fork-wrapper.txt\",\n",
    "   \"testPath\":\"fork-test.txt\",\n",
    "   \"executionSystem\":\"${AGAVE_EXECUTION_SYSTEM_ID}\",\n",
    "   \"executionType\":\"CLI\",\n",
    "   \"parallelism\":\"SERIAL\",\n",
    "   \"modules\":[],\n",
    "   \"inputs\":[\n",
    "         {   \n",
    "         \"id\":\"datafile\",\n",
    "         \"details\":{  \n",
    "            \"label\":\"Data file\",\n",
    "            \"description\":\"\",\n",
    "            \"argument\":null,\n",
    "            \"showArgument\":false\n",
    "         },\n",
    "         \"value\":{  \n",
    "            \"default\":\"/dev/null\",\n",
    "            \"order\":0,\n",
    "            \"required\":false,\n",
    "            \"validator\":\"\",\n",
    "            \"visible\":true\n",
    "         }\n",
    "      }   \n",
    "   ],\n",
    "   \"parameters\":[{\n",
    "     \"id\" : \"command\",\n",
    "     \"value\" : {\n",
    "       \"visible\":true,\n",
    "       \"required\":true,\n",
    "       \"type\":\"string\",\n",
    "       \"order\":0,\n",
    "       \"enquote\":false,\n",
    "       \"default\":\"/bin/date\",\n",
    "       \"validator\":null\n",
    "     },\n",
    "     \"details\":{\n",
    "         \"label\": \"Command to run\",\n",
    "         \"description\": \"This is the actual command you want to run. ex. df -h -d 1\",\n",
    "         \"argument\": null,\n",
    "         \"showArgument\": false,\n",
    "         \"repeatArgument\": false\n",
    "     },\n",
    "     \"semantics\":{\n",
    "         \"label\": \"Command to run\",\n",
    "         \"description\": \"This is the actual command you want to run. ex. df -h -d 1\",\n",
    "         \"argument\": null,\n",
    "         \"showArgument\": false,\n",
    "         \"repeatArgument\": false\n",
    "     }\n",
    "   }],\n",
    "   \"outputs\":[]\n",
    "}\n",
    "\"\"\")\n",
    "\n",
    "writefile(\"fork-wrapper.txt\",\"\"\"\n",
    "#!/bin/bash\n",
    "\\${command}\n",
    "\"\"\")\n",
    "\n",
    "writefile(\"fork-test.txt\",\"\"\"\n",
    "command=date\n",
    "fork-wrapper.txt\n",
    "\"\"\")"
   ]
  },
  {
   "cell_type": "code",
   "execution_count": 34,
   "metadata": {},
   "outputs": [
    {
     "name": "stdout",
     "output_type": "stream",
     "text": [
      "\u001b[1;0mSuccessfully created folder agave-deploy\u001b[0m\n",
      "Uploading fork-wrapper.txt...\n",
      "######################################################################## 100.0%\n",
      "Uploading fork-test.txt...\n",
      "######################################################################## 100.0%\n",
      "\u001b[1;0m\u001b[1;0mSuccessfully added app dooley-sandbox-fork-1.0\u001b[0m\u001b[0m\n"
     ]
    }
   ],
   "source": [
    "# upload files and create deployment path\n",
    "!files-mkdir -S ${AGAVE_STORAGE_SYSTEM_ID} -N ${AGAVE_APP_DEPLOYMENT_PATH}\n",
    "!files-upload -F fork-wrapper.txt -S ${AGAVE_STORAGE_SYSTEM_ID} ${AGAVE_APP_DEPLOYMENT_PATH}\n",
    "!files-upload -F fork-test.txt -S ${AGAVE_STORAGE_SYSTEM_ID} ${AGAVE_APP_DEPLOYMENT_PATH}\n",
    "\n",
    "# register app\n",
    "!apps-addupdate -F fork-app.txt"
   ]
  },
  {
   "cell_type": "markdown",
   "metadata": {},
   "source": [
    "## Automation"
   ]
  },
  {
   "cell_type": "code",
   "execution_count": 35,
   "metadata": {},
   "outputs": [
    {
     "name": "stdout",
     "output_type": "stream",
     "text": [
      "Writing runagavecmd.py\n"
     ]
    }
   ],
   "source": [
    "%%writefile runagavecmd.py\n",
    "from setvar import *\n",
    "\n",
    "from time import sleep\n",
    "\n",
    "def runagavecmd(cmd,infile=None):\n",
    "    setvar(\"REMOTE_COMMAND=\"+cmd)\n",
    "    setvar(\"REQUESTBIN_URL=$(requestbin-create)\")\n",
    "    print(\"\")\n",
    "    print(\" ** QUERY STRING FOR REQUESTBIN **\")\n",
    "    print('%s?inspect'%os.environ['REQUESTBIN_URL'])\n",
    "    print(\"\")\n",
    "    # The input file is an optional parameter, both\n",
    "    # to our function and to the Agave application.\n",
    "    if infile == None:\n",
    "        setvar(\"INPUTS={}\")\n",
    "    else:\n",
    "        setvar('INPUTS={\"datafile\":\"'+infile+'\"}')\n",
    "    setvar(\"JOB_FILE=job-remote-$PID.txt\")\n",
    "    # Create the Json for the job file.\n",
    "    writefile(\"$JOB_FILE\",\"\"\"\n",
    " {\n",
    "   \"name\":\"fork-command-1\",\n",
    "   \"appId\": \"${AGAVE_USERNAME}-${MACHINE_NAME}-fork-1.0\",\n",
    "   \"executionSystem\": \"${AGAVE_EXECUTION_SYSTEM_ID}\",\n",
    "   \"archive\": false,\n",
    "   \"notifications\": [\n",
    "    {\n",
    "      \"url\":\"${REQUESTBIN_URL}?event=\\${EVENT}&jobid=\\${JOB_ID}\",\n",
    "      \"event\":\"*\",\n",
    "      \"persistent\":\"true\"\n",
    "    }\n",
    "   ],\n",
    "   \"parameters\": {\n",
    "     \"command\":\"${REMOTE_COMMAND}\"\n",
    "   },\n",
    "   \"inputs\":${INPUTS}\n",
    " }\"\"\")\n",
    "    # Run the job and capture the output.\n",
    "    setvar(\"\"\"\n",
    "# Capture the output of the job submit command\n",
    "OUTPUT=$(jobs-submit -F $JOB_FILE)\n",
    "# Parse out the job id from the output\n",
    "JOB_ID=$(echo $OUTPUT | cut -d' ' -f4)\n",
    "\"\"\")\n",
    "    # Poll and wait for the job to finish.\n",
    "    for iter in range(80): # Excessively generous\n",
    "        setvar(\"STAT=$(jobs-status $JOB_ID)\")\n",
    "        stat = os.environ[\"STAT\"]\n",
    "        sleep(5.0)\n",
    "        if stat == \"FINISHED\" or stat == \"FAILED\":\n",
    "            break\n",
    "    # Fetch the job output from the remote machine\n",
    "    setvar(\"CMD=jobs-output-get ${JOB_ID} fork-command-1.out\")\n",
    "    os.system(os.environ[\"CMD\"])\n",
    "    print(\"All done! Output follows.\")\n",
    "    # Load the output into memory\n",
    "    output=readfile(\"fork-command-1.out\")\n",
    "    print(\"=\" * 70)\n",
    "    print(output)"
   ]
  },
  {
   "cell_type": "code",
   "execution_count": 36,
   "metadata": {},
   "outputs": [
    {
     "data": {
      "text/plain": [
       "<module 'runagavecmd' from '/home/jovyan/agave/runagavecmd.py'>"
      ]
     },
     "execution_count": 36,
     "metadata": {},
     "output_type": "execute_result"
    }
   ],
   "source": [
    "import runagavecmd as r\n",
    "import imp\n",
    "imp.reload(r)"
   ]
  },
  {
   "cell_type": "markdown",
   "metadata": {},
   "source": [
    "## Job inputs"
   ]
  },
  {
   "cell_type": "code",
   "execution_count": 40,
   "metadata": {},
   "outputs": [
    {
     "name": "stdout",
     "output_type": "stream",
     "text": [
      "Writing file `input.txt'\n",
      "Writing file `run.sh'\n",
      "Uploading input.txt...\n",
      "######################################################################## 100.0%\n",
      "Uploading run.sh...\n",
      "######################################################################## 100.0%\n"
     ]
    }
   ],
   "source": [
    "writefile(\"input.txt\",\"\"\"\n",
    "!INPUT FILE FOR FUNWAVE_TVD\n",
    "  ! NOTE: all input parameter are capital sensitive\n",
    "  ! --------------------TITLE-------------------------------------\n",
    "  ! title only for log file\n",
    "TITLE = VESSEL\n",
    "  ! -------------------HOT START---------------------------------\n",
    "HOT_START = F\n",
    "FileNumber_HOTSTART = 1\n",
    "  ! -------------------PARALLEL INFO-----------------------------\n",
    "  ! \n",
    "  !    PX,PY - processor numbers in X and Y\n",
    "  !    NOTE: make sure consistency with mpirun -np n (px*py)\n",
    "  !    \n",
    "PX = 2\n",
    "PY = 1\n",
    "  ! --------------------DEPTH-------------------------------------\n",
    "  ! Depth types, DEPTH_TYPE=DATA: from depth file\n",
    "  !              DEPTH_TYPE=FLAT: idealized flat, need depth_flat\n",
    "  !              DEPTH_TYPE=SLOPE: idealized slope, \n",
    "  !                                 need slope,SLP starting point, Xslp\n",
    "  !                                 and depth_flat\n",
    "DEPTH_TYPE = FLAT\n",
    "DEPTH_FLAT = 10.0\n",
    "  ! -------------------PRINT---------------------------------\n",
    "  ! PRINT*,\n",
    "  ! result folder\n",
    "RESULT_FOLDER = output/\n",
    "\n",
    "  ! ------------------DIMENSION-----------------------------\n",
    "  ! global grid dimension\n",
    "Mglob = 500\n",
    "Nglob = 100\n",
    "\n",
    "  ! ----------------- TIME----------------------------------\n",
    "  ! time: total computational time/ plot time / screen interval \n",
    "  ! all in seconds\n",
    "TOTAL_TIME = 3.0\n",
    "PLOT_INTV = 1.0\n",
    "PLOT_INTV_STATION = 50000.0\n",
    "SCREEN_INTV = 1.0\n",
    "HOTSTART_INTV = 360000000000.0\n",
    "\n",
    "WAVEMAKER = INI_GAU\n",
    "AMP = 3.0\n",
    "Xc = 250.0\n",
    "Yc = 50.0\n",
    "WID = 20.0\n",
    "\n",
    "  ! -----------------GRID----------------------------------\n",
    "  ! if use spherical grid, in decimal degrees\n",
    "  ! cartesian grid sizes\n",
    "DX = 1.0\n",
    "DY = 1.0\n",
    "  ! ----------------SHIP WAKES ----------------------------\n",
    "VESSEL_FOLDER = ./\n",
    "NumVessel = 2\n",
    "  ! -----------------OUTPUT-----------------------------\n",
    "ETA = T\n",
    "U = T\n",
    "V = T\n",
    "\"\"\")\n",
    "\n",
    "writefile(\"run.sh\",\"\"\"\n",
    "#!/bin/bash\n",
    "export LD_LIBRARY_PATH=/usr/local/lib\n",
    "mkdir -p rundir\n",
    "cd ./rundir\n",
    "cp ../input.txt .\n",
    "mpirun -np 2 ~/FUNWAVE-TVD/src/funwave_vessel\n",
    "\"\"\")\n",
    "!files-upload -F input.txt -S ${AGAVE_STORAGE_SYSTEM_ID} .\n",
    "!files-upload -F run.sh -S ${AGAVE_STORAGE_SYSTEM_ID} .\n"
   ]
  },
  {
   "cell_type": "code",
   "execution_count": 38,
   "metadata": {},
   "outputs": [
    {
     "ename": "SyntaxError",
     "evalue": "invalid syntax (<ipython-input-38-93778f6ac1f7>, line 1)",
     "output_type": "error",
     "traceback": [
      "\u001b[0;36m  File \u001b[0;32m\"<ipython-input-38-93778f6ac1f7>\"\u001b[0;36m, line \u001b[0;32m1\u001b[0m\n\u001b[0;31m    files-upload -F fork-wrapper.txt -S ${AGAVE_STORAGE_SYSTEM_ID} ${AGAVE_APP_DEPLOYMENT_PATH}\u001b[0m\n\u001b[0m                       ^\u001b[0m\n\u001b[0;31mSyntaxError\u001b[0m\u001b[0;31m:\u001b[0m invalid syntax\n"
     ]
    }
   ],
   "source": [
    "files-upload -F fork-wrapper.txt -S ${AGAVE_STORAGE_SYSTEM_ID} ${AGAVE_APP_DEPLOYMENT_PATH}\n"
   ]
  },
  {
   "cell_type": "code",
   "execution_count": null,
   "metadata": {},
   "outputs": [],
   "source": []
  }
 ],
 "metadata": {
  "kernelspec": {
   "display_name": "Python 3",
   "language": "python",
   "name": "python3"
  },
  "language_info": {
   "codemirror_mode": {
    "name": "ipython",
    "version": 3
   },
   "file_extension": ".py",
   "mimetype": "text/x-python",
   "name": "python",
   "nbconvert_exporter": "python",
   "pygments_lexer": "ipython3",
   "version": "3.6.2"
  }
 },
 "nbformat": 4,
 "nbformat_minor": 2
}
