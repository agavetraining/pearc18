{
 "cells": [
  {
   "cell_type": "markdown",
   "metadata": {},
   "source": [
    "# Practicing Good Enough Software and Change Management Practices\n",
    " \n"
   ]
  },
  {
   "cell_type": "code",
   "execution_count": 87,
   "metadata": {},
   "outputs": [
    {
     "name": "stdout",
     "output_type": "stream",
     "text": [
      "/home/jovyan/agave\n",
      "AGAVE_APP_DEPLOYMENT_PATH=agave-deploy\n",
      "AGAVE_APP_NAME=training-dooley\n",
      "AGAVE_EXECUTION_SYSTEM_ID=sandbox-exec-dooley\n",
      "AGAVE_STORAGE_HOME_DIR=/home/jovyan\n",
      "AGAVE_STORAGE_SYSTEM_ID=sandbox-storage-dooley\n",
      "AGAVE_STORAGE_WORK_DIR=/home/jovyan\n",
      "AGAVE_SYSTEM_SITE_DOMAIN=localdomain\n",
      "CMD=jobs-output-get 1646063324983389720-242ac114-0001-007 fork-command-1.out\n",
      "INPUTS={\"datafile\":\"agave://sandbox-storage-dooley/input.txt\"}\n",
      "JOB_FILE=job-remote-5058.txt\n",
      "JOB_ID=1646063324983389720-242ac114-0001-007\n",
      "MACHINE_NAME=sandbox\n",
      "MACHINE_USERNAME=jovyan\n",
      "OUTPUT=Successfully submitted job 1646063324983389720-242ac114-0001-007\n",
      "PBTOK=\n",
      "REMOTE_COMMAND=ls -al /home/jovyan/FUNWAVE_TVD/data && cp input.txt /home/jovyan/FUNWAVE_TVD/data/ && /home/jovyan/FUNWAVE_TVD/data/ && cd /home/jovyan/FUNWAVE_TVD && git add -A data\n",
      "REQUESTBIN_URL=https://requestbin.agaveapi.co/1mt3ubo1\n",
      "SCRATCH_DIR=/home/jovyan\n",
      "STAT=FINISHED\n",
      "VM_IPADDRESS=52.15.62.13\n",
      "\u001b[1;0mToken for sandbox:dooley successfully refreshed and cached for 14400 seconds\n",
      "f79cab3c65a98a9781d43bb9cdf37db\u001b[0m\n"
     ]
    },
    {
     "data": {
      "text/plain": [
       "<module 'runagavecmd' from '/home/jovyan/agave/runagavecmd.py'>"
      ]
     },
     "execution_count": 87,
     "metadata": {},
     "output_type": "execute_result"
    }
   ],
   "source": [
    "!mkdir -p ~/agave\n",
    "\n",
    "%cd ~/agave\n",
    "\n",
    "import re\n",
    "import os\n",
    "import sys\n",
    "import json\n",
    "from setvar import *\n",
    "from time import sleep\n",
    "\n",
    "loadvar()\n",
    "!auth-tokens-refresh || auth-tokens-create\n",
    "\n",
    "import runagavecmd as r # created in notebook \"05 - Hands on with The Agave CLI.ipynb\"\n",
    "import imp\n",
    "imp.reload(r)\n",
    "\n",
    "%load_ext rpy2.ipython"
   ]
  },
  {
   "cell_type": "markdown",
   "metadata": {},
   "source": [
    "## Software  \n",
    "\n",
    "\n",
    "\n",
    "> Place a brief explanatory comment at the start of every program  \n"
   ]
  },
  {
   "cell_type": "markdown",
   "metadata": {},
   "source": [
    "Our previous notebook walked us through the process of building and testing the FUNWAVE-TVD app a couple different ways. We can take a further step towards improving the user experience by including a static test dataset with the source code so every user can run the exact same build, test, and validation commands with confidence that the results they got were the ones they should get. This lines up favorably with the Good Enough recommendation to:  \n",
    "\n",
    "> Provide a simple example or test data set\n",
    "\n",
    "Let's take a moment to add the `input.txt` file we used in our previous runs to the application repository on our sandbox."
   ]
  },
  {
   "cell_type": "code",
   "execution_count": 88,
   "metadata": {},
   "outputs": [
    {
     "name": "stdout",
     "output_type": "stream",
     "text": [
      "Successfully created folder data\n",
      "Successfully copied ./input.txt to FUNWAVE-TVD/data/input.txt\n"
     ]
    }
   ],
   "source": [
    "%%bash\n",
    "files-mkdir -N \"data\" -S $AGAVE_STORAGE_SYSTEM_ID   ./FUNWAVE-TVD\n",
    "files-copy -D \"FUNWAVE-TVD/data/input.txt\"  -S $AGAVE_STORAGE_SYSTEM_ID  ./input.txt"
   ]
  },
  {
   "cell_type": "markdown",
   "metadata": {},
   "source": [
    "### Sample data"
   ]
  },
  {
   "cell_type": "markdown",
   "metadata": {},
   "source": [
    "We will also add it to our Agave app deployment directory so we can be assured that it is available whenever the application is available."
   ]
  },
  {
   "cell_type": "code",
   "execution_count": 105,
   "metadata": {},
   "outputs": [
    {
     "name": "stdout",
     "output_type": "stream",
     "text": [
      "Successfully copied ./input.txt to agave-deploy/input.txt\n"
     ]
    }
   ],
   "source": [
    "%%bash\n",
    "files-copy -D \"$AGAVE_APP_DEPLOYMENT_PATH/input.txt\"  -S $AGAVE_STORAGE_SYSTEM_ID ./input.txt"
   ]
  },
  {
   "cell_type": "markdown",
   "metadata": {},
   "source": [
    "Now that we have a sample dataset, let's update our app definition to include the sample dataset as the default input. In doing so, we can guarantee that users have a predictable experience the first time they run our app."
   ]
  },
  {
   "cell_type": "code",
   "execution_count": 106,
   "metadata": {},
   "outputs": [],
   "source": [
    "# read old app definition\n",
    "appJson = json.load(open(\"fork-app.txt\"))\n",
    "\n",
    "# update the default value of our `datafile` input\n",
    "appJson['inputs'][0]['value']['default'] =\"agave://{}/{}/input.txt\".format(appJson['deploymentSystem'],appJson['deploymentPath'])\n",
    "\n",
    "# add some semantic info about the file\n",
    "appJson['inputs'][0]['semantics'] = {'ontology': [\"text\"]}\n",
    "\n",
    "# save the definition to a new file\n",
    "json.dump(appJson, open(\"fork-app-with-default-input.json\",\"w\"),indent=2)"
   ]
  },
  {
   "cell_type": "markdown",
   "metadata": {},
   "source": [
    "The new input defintion for our app now has the new default value and ontological information"
   ]
  },
  {
   "cell_type": "code",
   "execution_count": 107,
   "metadata": {},
   "outputs": [
    {
     "name": "stdout",
     "output_type": "stream",
     "text": [
      "{\n",
      "  \"id\": \"datafile\",\n",
      "  \"details\": {\n",
      "    \"label\": \"Data file\",\n",
      "    \"description\": \"\",\n",
      "    \"argument\": null,\n",
      "    \"showArgument\": false\n",
      "  },\n",
      "  \"value\": {\n",
      "    \"default\": \"agave://sandbox-storage-dooley/agave-deploy/input.txt\",\n",
      "    \"order\": 0,\n",
      "    \"required\": false,\n",
      "    \"validator\": \"\",\n",
      "    \"visible\": true\n",
      "  },\n",
      "  \"semantics\": {\n",
      "    \"ontology\": [\n",
      "      \"text\"\n",
      "    ]\n",
      "  }\n",
      "}\n"
     ]
    }
   ],
   "source": [
    "print(json.dumps(appJson['inputs'][0],indent=2))"
   ]
  },
  {
   "cell_type": "markdown",
   "metadata": {},
   "source": [
    "### Publishing"
   ]
  },
  {
   "cell_type": "markdown",
   "metadata": {},
   "source": [
    "At some point you will want to publish the results of your research. At that time, you will need to provide references to your data, code, and results. The Good Enough recommendation is to: \n",
    "\n",
    "> Submit code to a reputable DOI-issuing repository\n",
    "\n",
    "Ironically, we are using Github for this tutorial and they do not currently issue DOI. There are, however, plenty of other options, including a recommendation from the Github team itself.\n",
    "\n",
    "* Github wrote a blog about [Making Your Code Citeable](https://guides.github.com/activities/citable-code/) with a free DOI from [Zenodo](https://zenodo.org/) for your Github repository.  \n",
    "* [Figshare](https://figshare.org) provides DOI for any data hosted there. \n",
    "* [The Journal of Open Source Software](https://joss.org) provides free publishing and DOI for software documented and published in their journal in the form of a short paper.\n",
    "* [DataCite](https://datacite.org) Provides search, discovery, and DOI for published data."
   ]
  },
  {
   "cell_type": "markdown",
   "metadata": {},
   "source": [
    "One of the easiest ways to get started with these services is to add a [CodeMeta](https://codemeta.github.io/) file to your project so it can be discovered in ways that span languages, publishing services, and dependency system syntax. We included a sample codemeta file for our FUNWAVE-TVD application to this repository. "
   ]
  },
  {
   "cell_type": "code",
   "execution_count": 129,
   "metadata": {},
   "outputs": [
    {
     "name": "stdout",
     "output_type": "stream",
     "text": [
      "Reading file `../notebooks/etc/codemeta.json'\n",
      "{\n",
      "  \"@context\": \"https://raw.githubusercontent.com/codemeta/codemeta/master/codemeta.jsonld\",\n",
      "  \"@type\": \"SoftwareSourceCode\",\n",
      "  \"identifier\": \"FUNWAVE-TVD\",\n",
      "  \"description\": \"FUNWAVE–TVD is the TVD version of the fully nonlinear Boussinesq wave model (FUNWAVE) initially developed by Kirby et al. (1998)\",\n",
      "  \"name\": \"FUNWAVE-TVD\",\n",
      "  \"codeRepository\": \"https://github.com/fengyanshi/FUNWAVE-TVD\",\n",
      "  \"issueTracker\": \"https://github.com/fengyanshi/FUNWAVE-TVD/issues\",\n",
      "  \"license\": \"https://opensource.org/licenses/BSD-2-Clause\",\n",
      "  \"version\": \"3.3\",\n",
      "  \"programmingLanguage\": {\n",
      "    \"@type\": \"ComputerLanguage\",\n",
      "    \"name\": \"Fortrain\",\n",
      "    \"version\": \"77\",\n",
      "    \"url\": \"https://gcc.gnu.org/fortran/\"\n",
      "  },\n",
      "  \"runtimePlatform\": \"GNU Fortran 77\",\n",
      "  \"author\": [\n",
      "    {\n",
      "      \"@type\": \"Person\",\n",
      "      \"givenName\": \"Fengyan\",\n",
      "      \"familyName\": \"Shi\",\n",
      "      \"email\": \"fyshi@udel.edu\",\n",
      "      \"@id\": \"https://orcid.org/0000-0003-1568-2449\"\n",
      "    },\n",
      "    {\n",
      "      \"@type\": \"Person\",\n",
      "      \"givenName\": \"James\",\n",
      "      \"familyName\": \"Kirby\",\n",
      "      \"email\": \"kirby@udel.edu\",\n",
      "      \"@id\": \"https://orcid.org/0000-0001-6978-899X\"\n",
      "    },\n",
      "    {\n",
      "      \"@type\": \"Person\",\n",
      "      \"givenName\": \"Babak\",\n",
      "      \"familyName\": \"Tehranirad\",\n",
      "      \"email\": \"btrad@udel.edu\",\n",
      "      \"@id\": \"https://orcid.org/0000-0002-1634-9165\"\n",
      "    },\n",
      "    {\n",
      "      \"@type\": \"Person\",\n",
      "      \"givenName\": \"Jeffrey\",\n",
      "      \"familyName\": \"Harris\",\n",
      "      \"email\": \"\",\n",
      "      \"@id\": \"https://orcid.org/0000-0002-8167-7974\"\n",
      "    }\n",
      "  ],\n",
      "  \"copyrightHolder\": [\n",
      "    {\n",
      "      \"@id\": \"http://www.udel.edu/kirby/programs/funwave/funwave.html\",\n",
      "      \"@type\": \"Organization\",\n",
      "      \"name\": \"FUNWAVE Development Team\",\n",
      "      \"url\": \"http://www.udel.edu/kirby/programs/funwave/funwave.html\"\n",
      "    }\n",
      "  ],\n",
      "  \"maintainer\": {\n",
      "    \"@type\": \"Person\",\n",
      "    \"givenName\": \"Fengyan\",\n",
      "    \"familyName\": \"Shi\",\n",
      "    \"email\": \" fyshi@udel.edu\",\n",
      "    \"@id\": \"https://orcid.org/0000-0003-1568-2449\"\n",
      "  },\n",
      "  \"softwareSuggestions\": [\n",
      "    {\n",
      "      \"@type\": \"SoftwareApplication\",\n",
      "      \"name\": \"Open MPI\",\n",
      "      \"provider\": {\n",
      "        \"@id\": \"https://www.open-mpi.org/\",\n",
      "        \"@type\": \"Organization\",\n",
      "        \"name\": \"Open MPI: Open Source High Performance Computing\",\n",
      "        \"url\": \"https://www.open-mpi.org/software/ompi/v2.1/\"\n",
      "      }\n",
      "    },\n",
      "    {\n",
      "      \"@type\": \"SoftwareApplication\",\n",
      "      \"name\": \"gfortran\",\n",
      "      \"provider\": {\n",
      "        \"@id\": \"https://gcc.gnu.org/fortran/\",\n",
      "        \"@type\": \"Organization\",\n",
      "        \"name\": \"GNU Fortran\",\n",
      "        \"url\": \"https://gcc.gnu.org/fortran/\"\n",
      "      }\n",
      "    },\n",
      "    {\n",
      "      \"@type\": \"SoftwareApplication\",\n",
      "      \"name\": \"gcc\",\n",
      "      \"provider\": {\n",
      "        \"@id\": \"https://gcc.gnu.org/\",\n",
      "        \"@type\": \"Organization\",\n",
      "        \"name\": \"GNU Compiler Collection (GCC)\",\n",
      "        \"url\": \"https://gcc.gnu.org/\"\n",
      "      }\n",
      "    }\n",
      "  ],\n",
      "  \"softwareRequirements\": [\n",
      "    {\n",
      "      \"@type\": \"SoftwareApplication\",\n",
      "      \"name\": \"Open MPI\",\n",
      "      \"provider\": {\n",
      "        \"@id\": \"https://www.open-mpi.org/\",\n",
      "        \"@type\": \"Organization\",\n",
      "        \"name\": \"Open MPI: Open Source High Performance Computing\",\n",
      "        \"url\": \"https://www.open-mpi.org/software/ompi/v2.1/\"\n",
      "      }\n",
      "    },\n",
      "    {\n",
      "      \"@type\": \"SoftwareApplication\",\n",
      "      \"name\": \"gfortran\",\n",
      "      \"provider\": {\n",
      "        \"@id\": \"https://gcc.gnu.org/fortran/\",\n",
      "        \"@type\": \"Organization\",\n",
      "        \"name\": \"GNU Fortran\",\n",
      "        \"url\": \"https://gcc.gnu.org/fortran/\"\n",
      "      }\n",
      "    },\n",
      "    {\n",
      "      \"@type\": \"SoftwareApplication\",\n",
      "      \"name\": \"gcc\",\n",
      "      \"provider\": {\n",
      "        \"@id\": \"https://gcc.gnu.org/\",\n",
      "        \"@type\": \"Organization\",\n",
      "        \"name\": \"GNU Compiler Collection (GCC)\",\n",
      "        \"url\": \"https://gcc.gnu.org/\"\n",
      "      }\n",
      "    }\n",
      "  ],\n",
      "  \"contIntegration\": \"https://travis-ci.org/codemeta/codemetar\",\n",
      "  \"developmentStatus\": \"http://www.repostatus.org/#active\",\n",
      "  \"keywords\": [\n",
      "    \"wave simulation\",\n",
      "    \"mpi\",\n",
      "    \"coastal\"\n",
      "  ]\n",
      "}\n"
     ]
    }
   ],
   "source": [
    "print(readfile(\"../notebooks/etc/codemeta.json\"))"
   ]
  },
  {
   "cell_type": "markdown",
   "metadata": {},
   "source": [
    "Briefly looking at the format, you will notice that it's JSON and there is a good bit of linked data included. If you are familiar with Schema.org, you might recognize many of the fields as official types of one or more Schema.org definitions. This definition is in now way complete. We leave the addition of additional fields as an exercise. You can consult the [CodeMeta User Guide](https://codemeta.github.io/terms/) for a full list of terms. "
   ]
  },
  {
   "cell_type": "markdown",
   "metadata": {},
   "source": [
    "The [codemetar](https://ropensci.github.io/codemetar/) library for the R language provides several tools to help you author and validate CodeMeta files. Their validation tools is particularly helpful. Here is an example of its usage."
   ]
  },
  {
   "cell_type": "code",
   "execution_count": 158,
   "metadata": {},
   "outputs": [
    {
     "data": {
      "text/plain": [
       "[1] TRUE\n"
      ]
     },
     "metadata": {},
     "output_type": "display_data"
    }
   ],
   "source": [
    "%%R\n",
    "\n",
    "library(codemetar) \n",
    "\n",
    "codemeta_validate(codemeta = \"../notebooks/etc/codemeta.json\", context=NULL)"
   ]
  },
  {
   "cell_type": "markdown",
   "metadata": {},
   "source": [
    "Let's upload the `codemeta.json` file to our repository directory to include with our source."
   ]
  },
  {
   "cell_type": "code",
   "execution_count": 159,
   "metadata": {},
   "outputs": [
    {
     "name": "stdout",
     "output_type": "stream",
     "text": [
      "Uploading ../notebooks/etc/codemeta.json...\n",
      "######################################################################## 100.0%\n"
     ]
    }
   ],
   "source": [
    "!files-upload --filetoupload=../notebooks/etc/codemeta.json  --systemid=$AGAVE_STORAGE_SYSTEM_ID  ./FUNWAVE-TVD"
   ]
  },
  {
   "cell_type": "markdown",
   "metadata": {},
   "source": [
    "## Keeping Track of Changes  \n",
    "\n",
    "Knowing how a piece of software changes over time can be challenging to do for invested iniviuals. For users, it can be downright intimidating, bordering on impossible. The Good Enough recommendation says to:  \n",
    "\n",
    "> Create, maintain, and use a checklist for saving and sharing changes to the project  \n",
    "\n",
    "One way to do that is by keeping a changelog. Changelogs are structued text documents that describe the major, an sometimes minor changes to a project over time an release. There are many way to stucture a changelog. For reasons we will quickly see, we recommend the format found at [keepachangelog.com](http://keepachangelog.com/). Their changelog format is a machine-parsable Markdown format which leverages semantic versioning. \n",
    "\n",
    "While we could generate the changelog by hand, for existing projects and active ones, this quickly becomes enough of a hassle to dissuade us from keeping up with. Luckily, we can leverage projects such as the [gitchangelog](https://github.com/vaab/gitchangelog) project to generate and maintain our changelog for us. The outcome will be a file named `CHANGELOG.md` that we can add and commit to our repository\n"
   ]
  },
  {
   "cell_type": "code",
   "execution_count": 161,
   "metadata": {},
   "outputs": [
    {
     "name": "stdout",
     "output_type": "stream",
     "text": [
      "REMOTE_COMMAND=cp .gitchangelog.rc /home/jovyan/FUNWAVE-TVD/.gitchangelog.rc && cd /home/jovyan/FUNWAVE-TVD && gitchangelog | tee -a CHANGELOG.md\n",
      "REQUESTBIN_URL=https://requestbin.agaveapi.co/xrqvwdxr\n",
      "\n",
      " ** QUERY STRING FOR REQUESTBIN **\n",
      "https://requestbin.agaveapi.co/xrqvwdxr?inspect\n",
      "\n",
      "INPUTS={\"datafile\":\"https://raw.githubusercontent.com/agavetraining/pearc18/master/etc/.gitchangelog.rc\"}\n",
      "JOB_FILE=job-remote-5058.txt\n",
      "Writing file `job-remote-5058.txt'\n",
      "OUTPUT=Successfully submitted job 6284515167279771160-242ac114-0001-007\n",
      "JOB_ID=6284515167279771160-242ac114-0001-007\n",
      "STAT=PENDING\n",
      "STAT=PROCESSING_INPUTS\n",
      "STAT=STAGED\n",
      "STAT=SUBMITTING\n",
      "STAT=SUBMITTING\n",
      "STAT=SUBMITTING\n",
      "STAT=SUBMITTING\n",
      "STAT=SUBMITTING\n",
      "STAT=SUBMITTING\n",
      "STAT=FINISHED\n",
      "CMD=jobs-output-get 6284515167279771160-242ac114-0001-007 fork-command-1.out\n",
      "All done! Output follows.\n",
      "Reading file `fork-command-1.out'\n",
      "======================================================================\n",
      "\n"
     ]
    }
   ],
   "source": [
    "# let's run the gitchangelog utility on the repository\n",
    "r.runagavecmd('cp .gitchangelog.rc /home/jovyan/FUNWAVE-TVD/.gitchangelog.rc && ' + \n",
    "              'cd /home/jovyan/FUNWAVE-TVD && ' + \n",
    "              'gitchangelog | tee CHANGELOG.md', \n",
    "              \"https://raw.githubusercontent.com/agavetraining/pearc18/master/etc/.gitchangelog.rc\")"
   ]
  },
  {
   "cell_type": "code",
   "execution_count": 164,
   "metadata": {},
   "outputs": [
    {
     "name": "stdout",
     "output_type": "stream",
     "text": [
      "Required 'pystache' python module not found.\n"
     ]
    },
    {
     "name": "stderr",
     "output_type": "stream",
     "text": [
      "\r",
      "######################################################################## 100.0%\n"
     ]
    }
   ],
   "source": [
    "%%bash\n",
    "\n",
    "jobs-output-get --print 6284515167279771160-242ac114-0001-007  fork-command-1.err"
   ]
  },
  {
   "cell_type": "markdown",
   "metadata": {},
   "source": [
    "Another Good Enough software recommendation is:\n",
    "\n",
    "> Share changes frequently  \n",
    "\n",
    "Having a changelog is much more useful when it is up to date. Rather than counting on ourself and our colleagues to remember to rebuild it each time, let's set up a git hook to rerun `gitchangelog` and update our changelog whenever we merge our develop branch back into master. The following script should handle that for us. \n",
    "\n",
    "```bash\n",
    "#!/bin/sh\n",
    "\n",
    "# post-checkout hook - looks for changes to source files and, if\n",
    "# found, generates a new changelog file from the commit history.\n",
    "\n",
    "# To install, copy to your project's .git/hooks folder, and \n",
    "# `chmod +x post-merge`\n",
    "\n",
    "function changed {\n",
    "  git diff --name-only HEAD@{2} HEAD | grep \"^$1\" > /dev/null 2>&1\n",
    "}\n",
    "\n",
    "gitchangelog \n",
    "```\n",
    "\n",
    "We can install the scrirpt on our sandbox by copying the script to the repository `.git/hooks` folder and assigning execute privileges."
   ]
  },
  {
   "cell_type": "code",
   "execution_count": null,
   "metadata": {},
   "outputs": [
    {
     "name": "stdout",
     "output_type": "stream",
     "text": [
      "bash: maintain,: command not found\n"
     ]
    }
   ],
   "source": [
    "!files-upload -F scripts/git_hooks/post-merge -S $STORAGE_SYSTEM FUNWAVE-TVD/.git/hooks\n",
    "ssh sandbox \"chmod +x FUNWAVE-TVD/.git/hooks/post-merge\""
   ]
  },
  {
   "cell_type": "markdown",
   "metadata": {},
   "source": [
    "## Manual Versioning  \n",
    "\n",
    "The Good Enough recommenation is to:  \n",
    "\n",
    "> Copy the entire project whenever a significant change has been made      \n",
    "\n",
    "If your entire project, including data, is under version control, they may be a bit of overkill when you can just as easily branch the repository, however, as we are seeing, in our overall digital R&D lifcycle, there are other considerations upstream from just managing the code. \n"
   ]
  },
  {
   "cell_type": "markdown",
   "metadata": {},
   "source": [
    "## Maintaining your Agave app \n",
    "\n",
    "Keeping your Agave app in sync with the code it represents will help your users feel secure that what they think they will be running is what will actually be run. Aside from the standard revision increment that happens whenever you update your app definition, additional information can be added to better inform users of its activity, utility, and reliability. \n",
    "\n",
    "\n",
    "### Updating your app definition  \n",
    "\n",
    "The lowest hanging fruit is simply to update your app definition. If any ontological terms, description, etc has changed, the `app.json` file should be updated to reflect the latest information. We can automate this with the use of the same `git-merge` file we used to update our changelog. \n",
    "\n",
    "Adding the following code to the end of that file will result in our app being updated whenever we merge into our master branch. \n",
    "\n",
    "```shell\n",
    "#  no way \n",
    "apps-addupdate -F app.json $APP_ID  \n",
    "\n",
    "```  \n",
    "\n",
    "\n",
    "### Updating your app metadata\n",
    "\n",
    "If you have an additional metadata such as a buildfile, yaml service definition, or CWL file for your app, updating the app's metadata with any new or changed content should be done now.  \n",
    "\n",
    "### Mirroring your app tags\n",
    "\n",
    "The tags you assign to your app probably will not change very often, but in the event a new feature requires changes to existing tags, or a reorganization of tags, then those updates should be done now.  \n",
    "\n",
    "### Deprecating your old app(s)\n",
    "\n",
    "Some releases, such as rollbacks, yanked releases, and security patches may justify the deprecation or disabling of a previous app version. This is where it would be done.\n",
    "\n",
    "### Rerunning benchmarks\n",
    "\n",
    "Once your build, unit, and integration tests pass, your app and its data are updated, and your assets are publised to their new locatino, benchmark jobs can be run to measure application performance before and after the release.\n",
    "\n",
    "### Updating analytics and published data  \n",
    "\n",
    "When your benchmarks complete, they can be published along with other app assets as metadata, archived with the benchmark jobs themselves, or saved as part of a document kept with the code.  "
   ]
  },
  {
   "cell_type": "markdown",
   "metadata": {},
   "source": [
    "### Version Control Systems  \n",
    "\n",
    "Let's just quickly acknowledge that we need to use some form of version control if we're going to talk about anything else related to proper software development in an open science community. The Good Enough recommendation says it all: \n",
    "\n",
    "> Use a version control system\n",
    "\n",
    "\n",
    "Using a version control system does not imply that everything should go in there. While Github, GitLab, and Bitbucket have large file support now, that does not mean we should commit large binary files without proper consideration.\n",
    "\n",
    "> Consider what not to put under version control \n",
    "\n",
    "As a rule of thumb, lean away from committing large binary docs and anyting that doens't lend itself well to text diffs.\n",
    "\n"
   ]
  },
  {
   "cell_type": "markdown",
   "metadata": {
    "collapsed": true
   },
   "source": [
    "Before we finish this notebook, let's go ahead and commit the changes to our repository."
   ]
  },
  {
   "cell_type": "code",
   "execution_count": null,
   "metadata": {
    "collapsed": true
   },
   "outputs": [],
   "source": [
    "# remote in and commit the directory\n",
    "#ssh sandbox \"cd FUNWAVE_TVD && git add -A data && git commit -m 'Adding example dataset' .\""
   ]
  },
  {
   "cell_type": "markdown",
   "metadata": {},
   "source": [
    "Finally, we will add the new files to version control."
   ]
  },
  {
   "cell_type": "code",
   "execution_count": 123,
   "metadata": {},
   "outputs": [
    {
     "name": "stdout",
     "output_type": "stream",
     "text": [
      "REMOTE_COMMAND=cd /home/jovyan/FUNWAVE-TVD && git add -A data CHANGELOG.md codemeta.json\n",
      "REQUESTBIN_URL=https://requestbin.agaveapi.co/s8ono0s8\n",
      "\n",
      " ** QUERY STRING FOR REQUESTBIN **\n",
      "https://requestbin.agaveapi.co/s8ono0s8?inspect\n",
      "\n",
      "INPUTS={}\n",
      "JOB_FILE=job-remote-5058.txt\n",
      "Writing file `job-remote-5058.txt'\n",
      "OUTPUT=Successfully submitted job 1416183485880209896-242ac114-0001-007\n",
      "JOB_ID=1416183485880209896-242ac114-0001-007\n",
      "STAT=PENDING\n",
      "STAT=STAGED\n",
      "STAT=SUBMITTING\n",
      "STAT=SUBMITTING\n",
      "STAT=SUBMITTING\n",
      "STAT=SUBMITTING\n",
      "STAT=SUBMITTING\n",
      "STAT=SUBMITTING\n",
      "STAT=CLEANING_UP\n",
      "STAT=FINISHED\n",
      "CMD=jobs-output-get 1416183485880209896-242ac114-0001-007 fork-command-1.out\n",
      "All done! Output follows.\n",
      "Reading file `fork-command-1.out'\n",
      "======================================================================\n",
      "\n"
     ]
    }
   ],
   "source": [
    "r.runagavecmd('cd /home/jovyan/FUNWAVE-TVD && ' + \n",
    "              'git status && ' + \n",
    "              'git add -A data CHANGELOG.md codemeta.json && ' + \n",
    "              'git status  && ' + \n",
    "              'git commit -m \"Adding example dataset, changelog, and \"'')"
   ]
  },
  {
   "cell_type": "markdown",
   "metadata": {},
   "source": [
    "If everything succeeded, you should see your version number incremented and a build job now running in your job history."
   ]
  }
 ],
 "metadata": {
  "kernelspec": {
   "display_name": "Python 3",
   "language": "python",
   "name": "python3"
  },
  "language_info": {
   "codemirror_mode": {
    "name": "ipython",
    "version": 3
   },
   "file_extension": ".py",
   "mimetype": "text/x-python",
   "name": "python",
   "nbconvert_exporter": "python",
   "pygments_lexer": "ipython3",
   "version": "3.6.2"
  }
 },
 "nbformat": 4,
 "nbformat_minor": 1
}
