{
 "cells": [
  {
   "cell_type": "markdown",
   "metadata": {},
   "source": [
    "# Good Enough Practices for Scientific Computing\n",
    "\n",
    "Building on our [Code, Build, and Test.ipynb] notebook, we will introduce some best practices to help us improve our existing workflow and build towards a reproducible developement cycle. The following suggestions follow largely from \"[Good Enough Practices in Scientific Computing](https://swcarpentry.github.io/good-enough-practices-in-scientific-computing/)\".\n",
    "\n",
    "    Wilson, Greg, Jennifer Bryan, Karen Cranston, Justin Kitzes, Lex Nederbragt, and Tracy K. Teal. “Good Enough Practices in Scientific Computing.” CoRR abs/1609.00037 (2016). http://arxiv.org/abs/1609.00037.\n",
    "\n"
   ]
  },
  {
   "cell_type": "markdown",
   "metadata": {},
   "source": [
    "### Software  \n",
    "\n",
    "\n",
    "#### Place a brief explanatory comment at the start of every program  \n",
    "\n",
    "\n",
    "#### Provide a simple example or test data set\n",
    "\n",
    "\n",
    "#### Submit code to a reputable DOI-issuing repository\n",
    "\n",
    "\n"
   ]
  },
  {
   "cell_type": "markdown",
   "metadata": {},
   "source": [
    "### Keeping Track of Changes  \n",
    "\n",
    "\n",
    "#### Back up (almost) everything created by a human being as soon as it is created   \n",
    "\n",
    "\n",
    "#### Share changes frequently  \n",
    "\n",
    "\n",
    "#### Create, maintain, and use a checklist for saving and sharing changes to the project  \n",
    "\n",
    "\n",
    "#### Store each project in a folder that is mirrored off the researcher's working machine     \n",
    "\n",
    "\n"
   ]
  },
  {
   "cell_type": "markdown",
   "metadata": {},
   "source": [
    "### Manual Versioning  \n",
    "\n",
    "\n",
    "#### Add a file called `CHANGELOG.txt` to the project's `docs` subfolder\n",
    "\n",
    "\n",
    "#### Copy the entire project whenever a significant change has been made      \n",
    "\n"
   ]
  },
  {
   "cell_type": "markdown",
   "metadata": {},
   "source": [
    "### Version Control Systems  \n",
    "\n",
    "\n",
    "#### Use a version control system\n",
    "\n",
    "\n",
    "#### What not to put under version control     \n",
    "\n"
   ]
  },
  {
   "cell_type": "code",
   "execution_count": null,
   "metadata": {
    "collapsed": true
   },
   "outputs": [],
   "source": []
  }
 ],
 "metadata": {
  "kernelspec": {
   "display_name": "Python 3",
   "language": "python",
   "name": "python3"
  },
  "language_info": {
   "codemirror_mode": {
    "name": "ipython",
    "version": 3
   },
   "file_extension": ".py",
   "mimetype": "text/x-python",
   "name": "python",
   "nbconvert_exporter": "python",
   "pygments_lexer": "ipython3",
   "version": "3.6.2"
  }
 },
 "nbformat": 4,
 "nbformat_minor": 1
}
