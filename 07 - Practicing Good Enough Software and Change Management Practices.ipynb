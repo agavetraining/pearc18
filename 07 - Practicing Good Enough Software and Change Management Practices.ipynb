{
 "cells": [
  {
   "cell_type": "markdown",
   "metadata": {},
   "source": [
    "# Practicing Good Enough Software and Change Management Practices\n",
    " \n"
   ]
  },
  {
   "cell_type": "code",
   "execution_count": 14,
   "metadata": {},
   "outputs": [
    {
     "name": "stdout",
     "output_type": "stream",
     "text": [
      "/home/jovyan/agave\n",
      "Collecting setvar\n",
      "  Downloading https://files.pythonhosted.org/packages/69/fb/e93e07768694deb9b1cc7fdf7217775753b6b42a3e10a9fa7c2c2f24ceab/setvar-1.1.2.tar.gz\n",
      "Building wheels for collected packages: setvar\n",
      "  Running setup.py bdist_wheel for setvar ... \u001b[?25ldone\n",
      "\u001b[?25h  Stored in directory: /home/jovyan/.cache/pip/wheels/c7/cc/6f/fa8b8dcd762a31d58ba0c3dd0992200b5a32eddecd18fc7d83\n",
      "Successfully built setvar\n",
      "Installing collected packages: setvar\n",
      "Successfully installed setvar-1.1.2\n",
      "\u001b[33mYou are using pip version 9.0.1, however version 10.0.1 is available.\n",
      "You should consider upgrading via the 'pip install --upgrade pip' command.\u001b[0m\n"
     ]
    },
    {
     "ename": "ModuleNotFoundError",
     "evalue": "No module named 'runagavecmd'",
     "output_type": "error",
     "traceback": [
      "\u001b[0;31m---------------------------------------------------------------------------\u001b[0m",
      "\u001b[0;31mModuleNotFoundError\u001b[0m                       Traceback (most recent call last)",
      "\u001b[0;32m<ipython-input-14-0bc6a5849983>\u001b[0m in \u001b[0;36m<module>\u001b[0;34m()\u001b[0m\n\u001b[1;32m      5\u001b[0m \u001b[0mget_ipython\u001b[0m\u001b[0;34m(\u001b[0m\u001b[0;34m)\u001b[0m\u001b[0;34m.\u001b[0m\u001b[0msystem\u001b[0m\u001b[0;34m(\u001b[0m\u001b[0;34m'pip3 install setvar'\u001b[0m\u001b[0;34m)\u001b[0m\u001b[0;34m\u001b[0m\u001b[0m\n\u001b[1;32m      6\u001b[0m \u001b[0;34m\u001b[0m\u001b[0m\n\u001b[0;32m----> 7\u001b[0;31m \u001b[0;32mimport\u001b[0m \u001b[0mrunagavecmd\u001b[0m \u001b[0;32mas\u001b[0m \u001b[0mr\u001b[0m\u001b[0;34m\u001b[0m\u001b[0m\n\u001b[0m\u001b[1;32m      8\u001b[0m \u001b[0;32mimport\u001b[0m \u001b[0mre\u001b[0m\u001b[0;34m\u001b[0m\u001b[0m\n\u001b[1;32m      9\u001b[0m \u001b[0;32mimport\u001b[0m \u001b[0mos\u001b[0m\u001b[0;34m\u001b[0m\u001b[0m\n",
      "\u001b[0;31mModuleNotFoundError\u001b[0m: No module named 'runagavecmd'"
     ]
    }
   ],
   "source": [
    "!mkdir -p ~/agave\n",
    "\n",
    "%cd ~/agave\n",
    "\n",
    "!pip3 install setvar\n",
    "\n",
    "import runagavecmd as r\n",
    "import re\n",
    "import os\n",
    "import sys\n",
    "import json\n",
    "from setvar import *\n",
    "from time import sleep\n",
    "\n",
    "loadvar()\n",
    "!auth-tokens-refresh || auth-tokens-create"
   ]
  },
  {
   "cell_type": "markdown",
   "metadata": {},
   "source": [
    "## Software  \n",
    "\n",
    "\n",
    "\n",
    "> Place a brief explanatory comment at the start of every program  \n"
   ]
  },
  {
   "cell_type": "markdown",
   "metadata": {},
   "source": [
    "Our previous notebook walked us through the process of building and testing the FUNWAVE-TVD app a couple different ways. We can take a further step towards improving the user experience by including a static test dataset with the source code so every user can run the exact same build, test, and validation commands with confidence that the results they got were the ones they should get. This lines up favorably with the Good Enough recommendation to:  \n",
    "\n",
    "> Provide a simple example or test data set\n",
    "\n",
    "Let's take a moment to add the input we ran in our last example to the repository on our sandbox and add it to version control."
   ]
  },
  {
   "cell_type": "code",
   "execution_count": 15,
   "metadata": {},
   "outputs": [
    {
     "ename": "NameError",
     "evalue": "name 'r' is not defined",
     "output_type": "error",
     "traceback": [
      "\u001b[0;31m---------------------------------------------------------------------------\u001b[0m",
      "\u001b[0;31mNameError\u001b[0m                                 Traceback (most recent call last)",
      "\u001b[0;32m<ipython-input-15-1ab465527d9d>\u001b[0m in \u001b[0;36m<module>\u001b[0;34m()\u001b[0m\n\u001b[1;32m      6\u001b[0m \u001b[0;34m\u001b[0m\u001b[0m\n\u001b[1;32m      7\u001b[0m \u001b[0;31m# files-import -U \"$DATAFILE\" -S $STORAGE_SYSTEM FUNWAVE_TVD/data\u001b[0m\u001b[0;34m\u001b[0m\u001b[0;34m\u001b[0m\u001b[0m\n\u001b[0;32m----> 8\u001b[0;31m r.runagavecmd('ls -al /home/jovyan/FUNWAVE_TVD/data && ' + \n\u001b[0m\u001b[1;32m      9\u001b[0m               \u001b[0;34m'cp $(basename $DATAFILE) /home/jovyan/FUNWAVE_TVD/data/ && '\u001b[0m \u001b[0;34m+\u001b[0m\u001b[0;34m\u001b[0m\u001b[0m\n\u001b[1;32m     10\u001b[0m               \u001b[0;34m'/home/jovyan/FUNWAVE_TVD/data/ && '\u001b[0m \u001b[0;34m+\u001b[0m\u001b[0;34m\u001b[0m\u001b[0m\n",
      "\u001b[0;31mNameError\u001b[0m: name 'r' is not defined"
     ]
    }
   ],
   "source": [
    "# have Agave copy our last input file over. We can get the input file from\n",
    "# the details of the job we just ran.\n",
    "JOB = ! jobs-search --verbose --limit=1 --filter=id,inputs  owner=${AGAVE_USERNAME}\n",
    "\n",
    "j\n",
    "\n",
    "# files-import -U \"$DATAFILE\" -S $STORAGE_SYSTEM FUNWAVE_TVD/data\n",
    "r.runagavecmd('ls -al /home/jovyan/FUNWAVE_TVD/data && ' + \n",
    "              'cp $(basename $DATAFILE) /home/jovyan/FUNWAVE_TVD/data/ && ' +\n",
    "              '/home/jovyan/FUNWAVE_TVD/data/ && ' + \n",
    "              'cd /home/jovyan/FUNWAVE_TVD && ' + \n",
    "              'git add -A data', \n",
    "              os.environ['DATAFILE'].trim())\n",
    "\n",
    "\n"
   ]
  },
  {
   "cell_type": "markdown",
   "metadata": {},
   "source": [
    "Now that we have a sample dataset, let's update our app definition to include the sample dataset as the default input. In doing so, we can guarantee that users have a predictable experience the first time they run our app."
   ]
  },
  {
   "cell_type": "code",
   "execution_count": null,
   "metadata": {
    "collapsed": true
   },
   "outputs": [],
   "source": [
    "# move the file so we can write to app.json as our ouput next\n",
    "mv app.json app.json.old\n",
    "# use jq to replace the value of our input field to the value of our sample dataset\n",
    "NEW_DATAFILE=\"agave://$STORAGE_SYSTEM/$DEPLOYMENT_DIR/$(basename $DATAFILE)\"\n",
    "jq --arg newontology 'text' --arg newdatafile \"$NEW_DATAFILE\" \\\n",
    "    '. | .inputs[0].semantics.ontology += [ $newontology ] | .inputs[0].value.default = $newdatafile ' app.json.old > app.json\n",
    "rm app.json.old"
   ]
  },
  {
   "cell_type": "markdown",
   "metadata": {},
   "source": [
    "At some point you will want to publish the results of your research. At that time, you will need to provide references to your data, code, and results. The Good Enough recommendation is to: \n",
    "\n",
    "> Submit code to a reputable DOI-issuing repository\n",
    "\n",
    "In the context of this tutorial, the repository is Github, which does not issue DOI. Fear not. An article from the Github blog on [Making Your Code Citeable](https://guides.github.com/activities/citable-code/) explains how you can get a free DOI for your Github repository from [Zenodo](https://zenodo.org/). [Figshare](https://figshare.org) also provides DOI for data hosted there."
   ]
  },
  {
   "cell_type": "markdown",
   "metadata": {},
   "source": [
    "One of the easiest ways to get started with zenodo is to add a [codemeta]() file to your project so it can be discovered in way that spans languages, publishing services, and dependency system syntax. We included a sample codemeta file for our FUNWAVE-TVD application to this repository. We'll copy it over to the FUNWAVE_TVD repository root directory and add it to version control. "
   ]
  },
  {
   "cell_type": "code",
   "execution_count": null,
   "metadata": {
    "collapsed": true
   },
   "outputs": [],
   "source": [
    "files-upload -F $HOME/etc/codemeta.json -S $STORAGE_SYSTEM FUNWAVE_TVD\n",
    "ssh sandbox \"cd FUNWAVE_TVD && git add -A codemeta.json\""
   ]
  },
  {
   "cell_type": "code",
   "execution_count": null,
   "metadata": {
    "collapsed": true
   },
   "outputs": [],
   "source": []
  },
  {
   "cell_type": "markdown",
   "metadata": {},
   "source": [
    "## Keeping Track of Changes  \n",
    "\n",
    "Knowing how a piece of software changes over time can be challenging to do for invested iniviuals. For users, it can be downright intimidating, bordering on impossible. The Good Enough recommendation says to:  \n",
    "\n",
    "> Create, maintain, and use a checklist for saving and sharing changes to the project  \n",
    "\n",
    "One way to do that is by keeping a changelog. Changelogs are structued text documents that describe the major, an sometimes minor changes to a project over time an release. There are many way to stucture a changelog. For reasons we will quickly see, we recommend the format found at [keepachangelog.com](http://keepachangelog.com/). Their changelog format is a machine-parsable Markdown format which leverages semantic versioning. \n",
    "\n",
    "While we could generate the changelog by hand, for existing projects and active ones, this quickly becomes enough of a hassle to dissuade us from keeping up with. Luckily, we can leverage projects such as the [gitchangelog](https://github.com/vaab/gitchangelog) project to generate and maintain our changelog for us. The outcome will be a file named `CHANGELOG.md` that we can add and commit to our repository\n"
   ]
  },
  {
   "cell_type": "code",
   "execution_count": 1,
   "metadata": {},
   "outputs": [
    {
     "name": "stdout",
     "output_type": "stream",
     "text": [
      "Warning: Permanently added 'sandbox,172.19.0.2' (ECDSA) to the list of known hosts.\n",
      "bash: gitchangelog: command not found\n",
      "\u001b[1;31mPlease run /home/jovyan/src/cli/bin/tenants-init to initialize your client before attempting to interact with the APIs.\u001b[0m\n"
     ]
    },
    {
     "ename": "",
     "evalue": "1",
     "output_type": "error",
     "traceback": []
    }
   ],
   "source": [
    "# let's run the gitchangelog utility on the repository\n",
    "r.runagavecmd('cd FUNWAVE-TVD && gitchangelog | tee -a CHANGELOG.md', \n",
    "             \"https://raw.githubusercontent.com/agavetraining/pearc18/master/etc/.gitchangelog.rc\")"
   ]
  },
  {
   "cell_type": "code",
   "execution_count": null,
   "metadata": {
    "collapsed": true
   },
   "outputs": [],
   "source": []
  },
  {
   "cell_type": "markdown",
   "metadata": {},
   "source": [
    "Another Good Enough software recommendation is:\n",
    "\n",
    "> Share changes frequently  \n",
    "\n",
    "Having a changelog is much more useful when it is up to date. Rather than counting on ourself and our colleagues to remember to rebuild it each time, let's set up a git hook to rerun `gitchangelog` and update our changelog whenever we merge our develop branch back into master. The following script should handle that for us. \n",
    "\n",
    "```bash\n",
    "#!/bin/sh\n",
    "\n",
    "# post-checkout hook - looks for changes to source files and, if\n",
    "# found, generates a new changelog file from the commit history.\n",
    "\n",
    "# To install, copy to your project's .git/hooks folder, and \n",
    "# `chmod +x post-merge`\n",
    "\n",
    "function changed {\n",
    "  git diff --name-only HEAD@{2} HEAD | grep \"^$1\" > /dev/null 2>&1\n",
    "}\n",
    "\n",
    "gitchangelog \n",
    "```\n",
    "\n",
    "We can install the scrirpt on our sandbox by copying the script to the repository `.git/hooks` folder and assigning execute privileges."
   ]
  },
  {
   "cell_type": "code",
   "execution_count": null,
   "metadata": {},
   "outputs": [
    {
     "name": "stdout",
     "output_type": "stream",
     "text": [
      "bash: maintain,: command not found\n"
     ]
    }
   ],
   "source": [
    "files-upload -F scripts/git_hooks/post-merge -S $STORAGE_SYSTEM FUNWAVE-TVD/.git/hooks\n",
    "ssh sandbox \"chmod +x FUNWAVE-TVD/.git/hooks/post-merge\""
   ]
  },
  {
   "cell_type": "markdown",
   "metadata": {},
   "source": [
    "## Manual Versioning  \n",
    "\n",
    "The Good Enough recommenation is to:  \n",
    "\n",
    "> Copy the entire project whenever a significant change has been made      \n",
    "\n",
    "If your entire project, including data, is under version control, they may be a bit of overkill when you can just as easily branch the repository, however, as we are seeing, in our overall digital R&D lifcycle, there are other considerations upstream from just managing the code. \n"
   ]
  },
  {
   "cell_type": "markdown",
   "metadata": {},
   "source": [
    "## Maintaining your Agave app \n",
    "\n",
    "Keeping your Agave app in sync with the code it represents will help your users feel secure that what they think they will be running is what will actually be run. Aside from the standard revision increment that happens whenever you update your app definition, additional information can be added to better inform users of its activity, utility, and reliability. \n",
    "\n",
    "\n",
    "### Updating your app definition  \n",
    "\n",
    "The lowest hanging fruit is simply to update your app definition. If any ontological terms, description, etc has changed, the `app.json` file should be updated to reflect the latest information. We can automate this with the use of the same `git-merge` file we used to update our changelog. \n",
    "\n",
    "Adding the following code to the end of that file will result in our app being updated whenever we merge into our master branch. \n",
    "\n",
    "```shell\n",
    "#  no way \n",
    "apps-addupdate -F app.json $APP_ID  \n",
    "\n",
    "```  \n",
    "\n",
    "\n",
    "### Updating your app metadata\n",
    "\n",
    "If you have an additional metadata such as a buildfile, yaml service definition, or CWL file for your app, updating the app's metadata with any new or changed content should be done now.  \n",
    "\n",
    "### Mirroring your app tags\n",
    "\n",
    "The tags you assign to your app probably will not change very often, but in the event a new feature requires changes to existing tags, or a reorganization of tags, then those updates should be done now.  \n",
    "\n",
    "### Deprecating your old app(s)\n",
    "\n",
    "Some releases, such as rollbacks, yanked releases, and security patches may justify the deprecation or disabling of a previous app version. This is where it would be done.\n",
    "\n",
    "### Rerunning benchmarks\n",
    "\n",
    "Once your build, unit, and integration tests pass, your app and its data are updated, and your assets are publised to their new locatino, benchmark jobs can be run to measure application performance before and after the release.\n",
    "\n",
    "### Updating analytics and published data  \n",
    "\n",
    "When your benchmarks complete, they can be published along with other app assets as metadata, archived with the benchmark jobs themselves, or saved as part of a document kept with the code.  "
   ]
  },
  {
   "cell_type": "markdown",
   "metadata": {},
   "source": [
    "### Version Control Systems  \n",
    "\n",
    "Let's just quickly acknowledge that we need to use some form of version control if we're going to talk about anything else related to proper software development in an open science community. The Good Enough recommendation says it all: \n",
    "\n",
    "> Use a version control system\n",
    "\n",
    "\n",
    "Using a version control system does not imply that everything should go in there. While Github, GitLab, and Bitbucket have large file support now, that does not mean we should commit large binary files without proper consideration.\n",
    "\n",
    "> Consider what not to put under version control \n",
    "\n",
    "As a rule of thumb, lean away from committing large binary docs and anyting that doens't lend itself well to text diffs.\n",
    "\n"
   ]
  },
  {
   "cell_type": "markdown",
   "metadata": {
    "collapsed": true
   },
   "source": [
    "Before we finish this notebook, let's go ahead and commit the changes to our repository."
   ]
  },
  {
   "cell_type": "code",
   "execution_count": null,
   "metadata": {
    "collapsed": true
   },
   "outputs": [],
   "source": [
    "# remote in and commit the directory\n",
    "ssh sandbox \"cd FUNWAVE_TVD && git add -A data && git commit -m 'Adding example dataset' .\""
   ]
  },
  {
   "cell_type": "markdown",
   "metadata": {},
   "source": [
    "If everything succeeded, you should see your version number incremented and a build job now running in your job history."
   ]
  }
 ],
 "metadata": {
  "kernelspec": {
   "display_name": "Python 3",
   "language": "python",
   "name": "python3"
  },
  "language_info": {
   "codemirror_mode": {
    "name": "ipython",
    "version": 3
   },
   "file_extension": ".py",
   "mimetype": "text/x-python",
   "name": "python",
   "nbconvert_exporter": "python",
   "pygments_lexer": "ipython3",
   "version": "3.6.2"
  }
 },
 "nbformat": 4,
 "nbformat_minor": 1
}
