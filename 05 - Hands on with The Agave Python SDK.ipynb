{
 "cells": [
  {
   "cell_type": "markdown",
   "metadata": {},
   "source": [
    "<h2>Setting Stuff Up</h2>\n",
    "\n",
    "Here we import some packages that we'll need in various places. We'll also load all the variables we set in config."
   ]
  },
  {
   "cell_type": "code",
   "execution_count": 1,
   "metadata": {},
   "outputs": [
    {
     "name": "stdout",
     "output_type": "stream",
     "text": [
      "/home/jovyan/agave\n",
      "\u001b[33mRetrying (Retry(total=4, connect=None, read=None, redirect=None)) after connection broken by 'NewConnectionError('<pip._vendor.requests.packages.urllib3.connection.VerifiedHTTPSConnection object at 0x7f80615458d0>: Failed to establish a new connection: [Errno -2] Name or service not known',)': /simple/setvar/\u001b[0m\n",
      "\u001b[33mRetrying (Retry(total=3, connect=None, read=None, redirect=None)) after connection broken by 'NewConnectionError('<pip._vendor.requests.packages.urllib3.connection.VerifiedHTTPSConnection object at 0x7f8061545940>: Failed to establish a new connection: [Errno -2] Name or service not known',)': /simple/setvar/\u001b[0m\n",
      "\u001b[33mRetrying (Retry(total=2, connect=None, read=None, redirect=None)) after connection broken by 'NewConnectionError('<pip._vendor.requests.packages.urllib3.connection.VerifiedHTTPSConnection object at 0x7f80615459b0>: Failed to establish a new connection: [Errno -2] Name or service not known',)': /simple/setvar/\u001b[0m\n",
      "\u001b[33mRetrying (Retry(total=1, connect=None, read=None, redirect=None)) after connection broken by 'NewConnectionError('<pip._vendor.requests.packages.urllib3.connection.VerifiedHTTPSConnection object at 0x7f8061545a90>: Failed to establish a new connection: [Errno -2] Name or service not known',)': /simple/setvar/\u001b[0m\n",
      "\u001b[33mRetrying (Retry(total=0, connect=None, read=None, redirect=None)) after connection broken by 'NewConnectionError('<pip._vendor.requests.packages.urllib3.connection.VerifiedHTTPSConnection object at 0x7f8061545b38>: Failed to establish a new connection: [Errno -2] Name or service not known',)': /simple/setvar/\u001b[0m\n",
      "Requirement already up-to-date: setvar in /opt/conda/lib/python3.6/site-packages\n",
      "\u001b[33mYou are using pip version 9.0.1, however version 10.0.1 is available.\n",
      "You should consider upgrading via the 'pip install --upgrade pip' command.\u001b[0m\n",
      "AGAVE_APP_NAME=**HIDDEN**\n",
      "AGAVE_STORAGE_SYSTEM_ID=**HIDDEN**\n",
      "AGAVE_EXECUTION_SYSTEM_ID=**HIDDEN**\n",
      "AGAVE_SYSTEM_SITE_DOMAIN=**HIDDEN**\n",
      "MACHINE_NAME=**HIDDEN**\n",
      "MACHINE_USERNAME=**HIDDEN**\n",
      "AGAVE_STORAGE_HOME_DIR=**HIDDEN**\n",
      "SCRATCH_DIR=**HIDDEN**\n",
      "AGAVE_STORAGE_WORK_DIR=**HIDDEN**\n",
      "AGAVE_APP_DEPLOYMENT_PATH=**HIDDEN**\n",
      "AGAVE_APP_DEPLOYMENT_PATH=**HIDDEN**\n",
      "AGAVE_APP_NAME=**HIDDEN**\n",
      "AGAVE_EXECUTION_SYSTEM_ID=**HIDDEN**\n",
      "AGAVE_STORAGE_HOME_DIR=**HIDDEN**\n",
      "AGAVE_STORAGE_SYSTEM_ID=**HIDDEN**\n",
      "AGAVE_STORAGE_WORK_DIR=**HIDDEN**\n",
      "AGAVE_SYSTEM_SITE_DOMAIN=**HIDDEN**\n",
      "JOB_ID=5093995656431791640-242ac114-0001-007\n",
      "MACHINE_NAME=**HIDDEN**\n",
      "MACHINE_USERNAME=**HIDDEN**\n",
      "OUTPUT=Successfully submitted job 5093995656431791640-242ac114-0001-007\n",
      "SCRATCH_DIR=**HIDDEN**\n",
      "STAT=FINISHED\n",
      "VM_IPADDRESS=**HIDDEN**\n"
     ]
    }
   ],
   "source": [
    "!mkdir -p ~/agave\n",
    "\n",
    "%cd ~/agave\n",
    "\n",
    "!pip3 install --upgrade setvar\n",
    "\n",
    "import re\n",
    "import os\n",
    "import sys\n",
    "import json\n",
    "import requests\n",
    "from agavepy.agave import Agave\n",
    "from urllib.parse import urlparse\n",
    "from setvar import *\n",
    "from time import sleep\n",
    "\n",
    "requests.packages.urllib3.disable_warnings()\n",
    "\n",
    "# This cell enables inline plotting in the notebook\n",
    "%matplotlib inline\n",
    "\n",
    "import matplotlib\n",
    "import numpy as np\n",
    "import matplotlib.pyplot as plt\n",
    "\n",
    "setvar(\"\"\"\n",
    "AGAVE_APP_NAME=training-${AGAVE_USERNAME}\n",
    "AGAVE_STORAGE_SYSTEM_ID=sandbox-storage-${AGAVE_USERNAME}\n",
    "AGAVE_EXECUTION_SYSTEM_ID=sandbox-exec-${AGAVE_USERNAME}\n",
    "AGAVE_SYSTEM_SITE_DOMAIN=localdomain\n",
    "MACHINE_NAME=sandbox\n",
    "MACHINE_USERNAME=jovyan\n",
    "AGAVE_STORAGE_HOME_DIR=/home/${MACHINE_USERNAME}\n",
    "SCRATCH_DIR=/home/${MACHINE_USERNAME}\n",
    "AGAVE_STORAGE_WORK_DIR=/home/${MACHINE_USERNAME}\n",
    "AGAVE_APP_DEPLOYMENT_PATH=agave-deploy\n",
    "\"\"\")\n",
    "loadvar()\n",
    "\n",
    "AGAVE_APP_NAME = \"training-\"+os.environ['AGAVE_USERNAME']\n",
    "AGAVE_STORAGE_SYSTEM_ID = \"sandbox-storage-\"+os.environ['AGAVE_USERNAME']\n",
    "AGAVE_EXECUTION_SYSTEM_ID = \"sandbox-exec-\"+os.environ['AGAVE_USERNAME']\n",
    "AGAVE_SYSTEM_SITE_DOMAIN = \"localdomain\"\n",
    "MACHINE_NAME = \"sandbox\"\n",
    "MACHINE_USERNAME = \"jovyan\"\n",
    "AGAVE_STORAGE_HOME_DIR = \"/home/\"+os.environ['MACHINE_USERNAME']\n",
    "SCRATCH_DIR = \"/home/\"+os.environ['MACHINE_USERNAME']\n",
    "AGAVE_STORAGE_WORK_DIR = \"/home/\"+os.environ['MACHINE_USERNAME']\n",
    "AGAVE_APP_DEPLOYMENT_PATH = \"agave-deploy\""
   ]
  },
  {
   "cell_type": "markdown",
   "metadata": {},
   "source": [
    "## Tenant configuration  \n",
    "\n",
    "If you are running against a privately hosted Agave tenant, you need to configure the tutorial to run against your tenant. You can do that by setting the `AGAVE_TENANTS_API_BASEURL` and `AGAVE_TENANT_ID` environment variables. "
   ]
  },
  {
   "cell_type": "markdown",
   "metadata": {},
   "source": [
    "If you specified the correct address to your Tenants API, you should be able to discover the tenants available for you through the CLI."
   ]
  },
  {
   "cell_type": "markdown",
   "metadata": {},
   "source": [
    "Select the tenant you would like to use by setting the `AGAVE_TENANT` environment variable. You may select either the name of the tenant, or leave it blank to select the default tenant."
   ]
  },
  {
   "cell_type": "code",
   "execution_count": 11,
   "metadata": {},
   "outputs": [
    {
     "name": "stdout",
     "output_type": "stream",
     "text": [
      "\u001b[1;0mYou are now configured to interact with the APIs at https://sandbox.agaveplatform.org/\u001b[0m\r\n"
     ]
    }
   ],
   "source": [
    "!tenants-init"
   ]
  },
  {
   "cell_type": "markdown",
   "metadata": {},
   "source": [
    "<h3>Create the Client</h3>"
   ]
  },
  {
   "cell_type": "markdown",
   "metadata": {},
   "source": [
    "In this next step we delete the client if it exists. Chances are, yours doesn't yet. We put this command here in case, for some reason, you want to re-create your client later on. If you delete the client you intend to create before you create it, no harm is done."
   ]
  },
  {
   "cell_type": "code",
   "execution_count": 15,
   "metadata": {},
   "outputs": [
    {
     "name": "stdout",
     "output_type": "stream",
     "text": [
      "\u001b[1;0mSuccessfully deleted client training-dooley\u001b[0m\r\n"
     ]
    }
   ],
   "source": [
    "!clients-delete -u \"$AGAVE_USERNAME\" -p \"$AGAVE_PASSWORD\" $AGAVE_APP_NAME"
   ]
  },
  {
   "cell_type": "markdown",
   "metadata": {},
   "source": [
    "In this step we create the client. Clients provide a way of encapsulating resources connected to a single project. Through the client, you will receive a token which you can use to run most of the Agave commands."
   ]
  },
  {
   "cell_type": "code",
   "execution_count": 16,
   "metadata": {},
   "outputs": [
    {
     "name": "stdout",
     "output_type": "stream",
     "text": [
      "\u001b[1;0m\u001b[1;0mSuccessfully created client training-dooley\r\n",
      "key: KrTTfIZ1OQ4Hie3ecO6aFK88LhEa \r\n",
      "secret: EuaogZcXq3_jMvGQCOQqtCNtgiQa\u001b[0m\u001b[0m\r\n"
     ]
    }
   ],
   "source": [
    "!clients-create -u \"$AGAVE_USERNAME\" -p \"$AGAVE_PASSWORD\" -N \"$AGAVE_APP_NAME\" -S"
   ]
  },
  {
   "cell_type": "markdown",
   "metadata": {},
   "source": [
    "Create the token for your client. You will, from this point on, use this token to run the remainder of the Agave commands in this tutorial."
   ]
  },
  {
   "cell_type": "code",
   "execution_count": null,
   "metadata": {
    "scrolled": true
   },
   "outputs": [],
   "source": [
    "!auth-tokens-create -u $AGAVE_USERNAME -p \"$AGAVE_PASSWORD\" "
   ]
  },
  {
   "cell_type": "code",
   "execution_count": null,
   "metadata": {},
   "outputs": [],
   "source": [
    "!auth-tokens-refresh -V"
   ]
  },
  {
   "cell_type": "markdown",
   "metadata": {},
   "source": [
    "Now that we have a valid set of API keys, let's authenticate and get a valid token we can use."
   ]
  },
  {
   "cell_type": "code",
   "execution_count": null,
   "metadata": {
    "collapsed": true
   },
   "outputs": [],
   "source": [
    "agTokenCache = json.loads(open(os.environ['AGAVE_CACHE_DIR'] + '/current').read())\n",
    "ag = Agave(token=agTokenCache['access_token'], \n",
    "           refresh_token=agTokenCache['refresh_token'], \n",
    "           username=agTokenCache['username'],\n",
    "           password=os.environ['AGAVE_PASSWORD'],\n",
    "           api_key=agTokenCache['apikey'], \n",
    "           api_secret=agTokenCache['apisecret'],\n",
    "           api_server=agTokenCache['baseurl'], \n",
    "           client_name=agTokenCache['client_name'],\n",
    "           verify=False)\n"
   ]
  },
  {
   "cell_type": "code",
   "execution_count": null,
   "metadata": {},
   "outputs": [],
   "source": [
    "ag.token.token_info"
   ]
  },
  {
   "cell_type": "code",
   "execution_count": null,
   "metadata": {},
   "outputs": [],
   "source": [
    "[client.name for client in ag.clients.list() if client['name'] == AGAVE_APP_NAME]"
   ]
  },
  {
   "cell_type": "markdown",
   "metadata": {},
   "source": [
    "## FOLLOWING ALONG AT HOME  \n",
    "\n",
    "If you are following along at home using the docker-compose stack, you will need to run the following cell to get the hostname and port of your tcp tunnel so Agave can contact your system without a public IP address."
   ]
  },
  {
   "cell_type": "code",
   "execution_count": 73,
   "metadata": {},
   "outputs": [
    {
     "name": "stdout",
     "output_type": "stream",
     "text": [
      "Agave will be connecting to your sandbox at 0.tcp.ngrok.io:17667\n"
     ]
    }
   ],
   "source": [
    "from urllib.parse import urlparse\n",
    "\n",
    "if os.environ.get('USE_TUNNEL') == 'True': \n",
    "    # fetch the hostname and port of the reverse tunnel running in the sandbox \n",
    "    # so Agave can connect to our local sandbox\n",
    "    ngrokUrl = !ssh -q -o StrictHostKeyChecking=no -o UserKnownHostsFile=/dev/null sandbox 'curl -s  http://localhost:4040/api/tunnels | jq -r '.tunnels[0].public_url''\n",
    "    parsedNgrokUrl = urlparse(ngrokUrl[0])\n",
    "    AGAVE_SYSTEM_HOST = parsedNgrokUrl.hostname\n",
    "    AGAVE_SYSTEM_PORT = parsedNgrokUrl.port\n",
    "    \n",
    "    print(\"Agave will be connecting to your sandbox at {}:{}\".format(AGAVE_SYSTEM_HOST,AGAVE_SYSTEM_PORT))\n",
    "\n",
    "    "
   ]
  },
  {
   "cell_type": "markdown",
   "metadata": {},
   "source": [
    "We will recycle the ssh keys already in place to login from your notebook server."
   ]
  },
  {
   "cell_type": "code",
   "execution_count": 74,
   "metadata": {},
   "outputs": [
    {
     "name": "stdout",
     "output_type": "stream",
     "text": [
      "Reading file `/home/jovyan/.ssh/id_rsa.pub'\n",
      "Reading file `/home/jovyan/.ssh/id_rsa'\n"
     ]
    }
   ],
   "source": [
    "PUB_KEY = readfile(\"/home/jovyan/.ssh/id_rsa.pub\")\n",
    "PRIV_KEY = readfile(\"/home/jovyan/.ssh/id_rsa\")"
   ]
  },
  {
   "cell_type": "markdown",
   "metadata": {},
   "source": [
    "In this next cell, we create the json file used to describe the storage machine."
   ]
  },
  {
   "cell_type": "code",
   "execution_count": 418,
   "metadata": {},
   "outputs": [],
   "source": [
    "storageSystemDefinition = {\n",
    "    \"id\": AGAVE_STORAGE_SYSTEM_ID,\n",
    "    \"name\": \"{} storage {}\".format(MACHINE_NAME, MACHINE_USERNAME),\n",
    "    \"description\": \"The {} computer\".format(MACHINE_NAME),\n",
    "    \"site\": AGAVE_SYSTEM_SITE_DOMAIN,\n",
    "    \"type\": \"STORAGE\",\n",
    "    \"storage\": {\n",
    "        \"host\": AGAVE_SYSTEM_HOST,\n",
    "        \"port\": AGAVE_SYSTEM_PORT,\n",
    "        \"protocol\": \"SFTP\",\n",
    "        \"rootDir\": \"/\",\n",
    "        \"homeDir\": AGAVE_STORAGE_HOME_DIR,\n",
    "        \"auth\": {\n",
    "          \"username\" : MACHINE_USERNAME,\n",
    "          \"publicKey\" : PUB_KEY,\n",
    "          \"privateKey\" : PRIV_KEY,\n",
    "          \"type\" : \"SSHKEYS\"\n",
    "        }\n",
    "    }\n",
    "}"
   ]
  },
  {
   "cell_type": "markdown",
   "metadata": {},
   "source": [
    "Here, we tell Agave about the machine. You can re-run the previous cell and the next one if you want to change the definition of your storage machine."
   ]
  },
  {
   "cell_type": "code",
   "execution_count": 76,
   "metadata": {
    "collapsed": true
   },
   "outputs": [],
   "source": [
    "storageSystem = ag.systems.add(body=storageSystemDefinition)"
   ]
  },
  {
   "cell_type": "markdown",
   "metadata": {},
   "source": [
    "Next we run the Agave command `files-list`. This provides a check that we've set up the storage machine correctly."
   ]
  },
  {
   "cell_type": "code",
   "execution_count": 420,
   "metadata": {},
   "outputs": [
    {
     "data": {
      "text/plain": [
       "['.', '.bash_history', '.bash_logout', '.bashrc', '.cache']"
      ]
     },
     "execution_count": 420,
     "metadata": {},
     "output_type": "execute_result"
    }
   ],
   "source": [
    "fileListing = ag.files.list(systemId=storageSystem.id, filePath=\".\", limit=5)\n",
    "[ f.name for f in fileListing ]"
   ]
  },
  {
   "cell_type": "markdown",
   "metadata": {},
   "source": [
    "<h2>Setting up the Execution Machine</h2>\n",
    "\n",
    "You may not always wish to store your data on the same machine you run your jobs on. However, in this tutorial, we will assume that you do. The description for the execution machine is much like the storage machine. However, there are a few more pieces of information you'll need to provide. In this example, we are going to call commands directly on the host as opposed to using a batch queue scheduler. It is slightly simpler."
   ]
  },
  {
   "cell_type": "code",
   "execution_count": 78,
   "metadata": {
    "collapsed": true
   },
   "outputs": [],
   "source": [
    "# Edit any parts of this file that you know need to be changed for your machine.\n",
    "executionSystem = {\n",
    "    \"id\": AGAVE_EXECUTION_SYSTEM_ID,\n",
    "    \"name\": \"{} {}\".format(MACHINE_NAME, MACHINE_USERNAME),\n",
    "    \"description\": \"The {} computer\".format(MACHINE_NAME),\n",
    "    \"site\": AGAVE_SYSTEM_SITE_DOMAIN,\n",
    "    \"public\": False,\n",
    "    \"status\": \"UP\",\n",
    "    \"type\": \"EXECUTION\",\n",
    "    \"executionType\": \"CLI\",\n",
    "    \"scheduler\" : \"FORK\",\n",
    "    \"environment\": None,\n",
    "    \"scratchDir\" : SCRATCH_DIR,\n",
    "    \"queues\": [\n",
    "        {\n",
    "            \"name\": \"fork\",\n",
    "            \"default\": True,\n",
    "            \"maxJobs\": 10,\n",
    "            \"maxUserJobs\": 10,\n",
    "            \"maxNodes\": 6,\n",
    "            \"maxProcessorsPerNode\": 6,\n",
    "            \"minProcessorsPerNode\": 1,\n",
    "            \"maxRequestedTime\": \"00:30:00\"\n",
    "        }\n",
    "    ],\n",
    "    \"login\": {\n",
    "        \"auth\": {\n",
    "          \"username\" : MACHINE_USERNAME,\n",
    "          \"publicKey\" : PUB_KEY,\n",
    "          \"privateKey\" : PRIV_KEY,\n",
    "          \"type\" : \"SSHKEYS\"\n",
    "        },\n",
    "        \"host\": AGAVE_SYSTEM_HOST,\n",
    "        \"port\": AGAVE_SYSTEM_PORT,\n",
    "        \"protocol\": \"SSH\"\n",
    "    },\n",
    "    \"maxSystemJobs\": 50,\n",
    "    \"maxSystemJobsPerUser\": 50,\n",
    "    \"storage\": {\n",
    "        \"host\": AGAVE_SYSTEM_HOST,\n",
    "        \"port\": AGAVE_SYSTEM_PORT,\n",
    "        \"protocol\": \"SFTP\",\n",
    "        \"rootDir\": \"/\",\n",
    "        \"homeDir\": AGAVE_STORAGE_HOME_DIR,\n",
    "        \"auth\": {\n",
    "          \"username\" : MACHINE_USERNAME,\n",
    "          \"publicKey\" : PUB_KEY,\n",
    "          \"privateKey\" : PRIV_KEY,\n",
    "          \"type\" : \"SSHKEYS\"\n",
    "        }\n",
    "    },\n",
    "    \"workDir\": AGAVE_STORAGE_WORK_DIR\n",
    "}"
   ]
  },
  {
   "cell_type": "code",
   "execution_count": 79,
   "metadata": {
    "collapsed": true
   },
   "outputs": [],
   "source": [
    "executionSystem = ag.systems.add(body=executionSystem)"
   ]
  },
  {
   "cell_type": "code",
   "execution_count": 80,
   "metadata": {},
   "outputs": [
    {
     "data": {
      "text/plain": [
       "['.', '.bash_logout', '.bashrc', '.cache', '.ngrok2']"
      ]
     },
     "execution_count": 80,
     "metadata": {},
     "output_type": "execute_result"
    }
   ],
   "source": [
    "# Test to see if this worked...\n",
    "fileListing = ag.files.list(systemId=executionSystem.id, filePath=\".\", limit=5)\n",
    "[ f.name for f in fileListing ]"
   ]
  },
  {
   "cell_type": "markdown",
   "metadata": {},
   "source": [
    "<h3>Create the Application</h3>\n",
    "Agave allows us to describe custom allocations, limiting users to run a specific job. In this case, we're going to create a simple \"fork\" scheduler that just takes the command we want to run as a job parameter. The wrapper file is a shell script we will run on the execution machine. If we were using a scheduler, this would be our batch file."
   ]
  },
  {
   "cell_type": "code",
   "execution_count": 198,
   "metadata": {},
   "outputs": [
    {
     "name": "stdout",
     "output_type": "stream",
     "text": [
      "Writing file `fork-wrapper.txt'\n"
     ]
    }
   ],
   "source": [
    "writefile(\"fork-wrapper.txt\",\"\"\"\n",
    "#!/bin/bash\n",
    "\\${command}\n",
    "\"\"\")"
   ]
  },
  {
   "cell_type": "markdown",
   "metadata": {},
   "source": [
    "Using Agave commands, we make a directory on the storage server an deploy our wrapper file there."
   ]
  },
  {
   "cell_type": "code",
   "execution_count": 122,
   "metadata": {
    "collapsed": true
   },
   "outputs": [],
   "source": [
    "remoteDeploymentDir = ag.files.manage(systemId = storageSystem.id, \n",
    "                                      filePath = \".\", \n",
    "                                      body = {\n",
    "                                          \"action\": \"mkdir\", \n",
    "                                          \"path\": AGAVE_APP_DEPLOYMENT_PATH\n",
    "                                      })\n",
    "\n"
   ]
  },
  {
   "cell_type": "code",
   "execution_count": 203,
   "metadata": {},
   "outputs": [
    {
     "name": "stdout",
     "output_type": "stream",
     "text": [
      "File successfully uploaded to agave-deploy/fork-wrapper.txt\n"
     ]
    }
   ],
   "source": [
    "uploadedWrapperFileItem = ag.files.importData(\n",
    "    systemId=storageSystem.id,\n",
    "    filePath=AGAVE_APP_DEPLOYMENT_PATH,\n",
    "    fileName='fork-wrapper.txt',\n",
    "    fileToUpload=open(\"fork-wrapper.txt\", 'rb'))\n",
    "\n",
    "print(\"File successfully uploaded to\",uploadedWrapperFileItem['path'])\n"
   ]
  },
  {
   "cell_type": "markdown",
   "metadata": {},
   "source": [
    "All agave applications require a test file. The test file is a free form text file which allows you to specify what resources you might need to test your application."
   ]
  },
  {
   "cell_type": "code",
   "execution_count": 206,
   "metadata": {},
   "outputs": [
    {
     "name": "stdout",
     "output_type": "stream",
     "text": [
      "Writing file `fork-test.txt'\n"
     ]
    }
   ],
   "source": [
    "writefile(\"fork-test.txt\",\"\"\"\n",
    "command=date\n",
    "fork-wrapper.txt\n",
    "\"\"\")"
   ]
  },
  {
   "cell_type": "code",
   "execution_count": 207,
   "metadata": {},
   "outputs": [
    {
     "name": "stdout",
     "output_type": "stream",
     "text": [
      "File successfully uploaded to agave-deploy/fork-test.txt\n"
     ]
    }
   ],
   "source": [
    "uploadedTestFileItem = ag.files.importData(\n",
    "    systemId=storageSystem.id,\n",
    "    filePath=AGAVE_APP_DEPLOYMENT_PATH,\n",
    "    fileName=\"fork-test.txt\",\n",
    "    fileToUpload=open(\"fork-test.txt\",'rb'))\n",
    "\n",
    "print(\"File successfully uploaded to\",uploadedTestFileItem['path'])\n"
   ]
  },
  {
   "cell_type": "markdown",
   "metadata": {},
   "source": [
    "Like everything else in Agave, we describe our application with Json. We specifiy which machines the application will use, what method it will use for submitting jobs, job parameters and files, etc."
   ]
  },
  {
   "cell_type": "code",
   "execution_count": 153,
   "metadata": {
    "collapsed": true
   },
   "outputs": [],
   "source": [
    "appDefinition = {  \n",
    "   \"name\": \"{}-{}-fork\".format(os.environ['AGAVE_USERNAME'], MACHINE_NAME),\n",
    "   \"version\":\"1.0\",\n",
    "   \"label\":\"Runs a command\",\n",
    "   \"shortDescription\":\"Runs a command\",\n",
    "   \"deploymentSystem\": AGAVE_STORAGE_SYSTEM_ID,\n",
    "   \"deploymentPath\": AGAVE_APP_DEPLOYMENT_PATH,\n",
    "   \"templatePath\":\"fork-wrapper.txt\",\n",
    "   \"testPath\":\"fork-test.txt\",\n",
    "   \"executionSystem\": AGAVE_EXECUTION_SYSTEM_ID,\n",
    "   \"executionType\":\"CLI\",\n",
    "   \"parallelism\":\"SERIAL\",\n",
    "   \"inputs\":[\n",
    "         {   \n",
    "         \"id\":\"datafile\",\n",
    "         \"details\":{  \n",
    "            \"label\":\"Data file\",\n",
    "            \"argument\": None,\n",
    "            \"showArgument\":False\n",
    "         },\n",
    "         \"value\":{  \n",
    "            \"default\":\"/dev/null\",\n",
    "         }\n",
    "      }   \n",
    "   ],\n",
    "   \"parameters\":[{\n",
    "     \"id\" : \"command\",\n",
    "     \"value\" : {\n",
    "       \"required\":True,\n",
    "       \"type\":\"string\",\n",
    "       \"default\":\"/bin/date\",\n",
    "     },\n",
    "     \"details\":{\n",
    "         \"label\": \"Command to run\",\n",
    "         \"description\": \"This is the actual command you want to run. ex. df -h -d 1\"\n",
    "     }\n",
    "   }]\n",
    "}"
   ]
  },
  {
   "cell_type": "code",
   "execution_count": 253,
   "metadata": {},
   "outputs": [
    {
     "data": {
      "text/plain": [
       "'dooley-sandbox-fork-1.0'"
      ]
     },
     "execution_count": 253,
     "metadata": {},
     "output_type": "execute_result"
    }
   ],
   "source": [
    "app = ag.apps.add(body=appDefinition)\n",
    "AGAVE_APP_ID = app.id\n",
    "AGAVE_APP_ID\n"
   ]
  },
  {
   "cell_type": "markdown",
   "metadata": {},
   "source": [
    "<h2>Running Jobs</h2>\n",
    "Now that we have specified our application using Agave, it is time to try running jobs. To start a job we, once again, create a Json file. The Json file describes the app, what resource to run on, as well as how and when to send notifications. Notifications are delivered by callback url. EMAIL is the easiest type to configure, but we show here how to send webhook notifications to the popular [RequestBin](https://requestb.in/). \n",
    "\n",
    "Before we configure our notification, we need to create a requestbin to use. There are convenience commands to interact with requestbin built into the Agave CLI. We will use those to get our URL."
   ]
  },
  {
   "cell_type": "code",
   "execution_count": 157,
   "metadata": {
    "collapsed": true
   },
   "outputs": [],
   "source": [
    "requestbinUrl = !requestbin-create \n",
    "os.environ['REQUESTBIN_URL'] = requestbinUrl[0].strip()"
   ]
  },
  {
   "cell_type": "markdown",
   "metadata": {},
   "source": [
    "Now that we have a URL to recieve webhooks from our job, Let's look at our job request. The way this job is configured, it will send the requestbin notifications for every job event until the job reaches a terminal state. For a full list of job events, please see http://docs.agaveplatform.org/#job-monitoring"
   ]
  },
  {
   "cell_type": "code",
   "execution_count": 160,
   "metadata": {
    "collapsed": true
   },
   "outputs": [],
   "source": [
    "jobRequest = {\n",
    "   \"name\": \"fork-command-1\",\n",
    "   \"appId\": app.id,\n",
    "   \"executionSystem\": executionSystem.id,\n",
    "   \"archive\": False,\n",
    "   \"notifications\": [\n",
    "    {\n",
    "      \"url\": requestbinUrl[0].strip()+\"?event=${EVENT}&jobid=${JOB_ID}\",\n",
    "      \"event\":\"*\",\n",
    "      \"persistent\":\"true\",\n",
    "      \"policy\": {\n",
    "         \"retryStrategy\": \"DELAYED\",\n",
    "         \"retryLimit\": 2,\n",
    "         \"retryRate\": 5,\n",
    "         \"retryDelay\": 5,\n",
    "         \"saveOnFailure\": True\n",
    "      }\n",
    "    }\n",
    "   ],\n",
    "   \"parameters\": {\n",
    "      \"command\":\"echo hello\"\n",
    "   }\n",
    "}"
   ]
  },
  {
   "cell_type": "markdown",
   "metadata": {},
   "source": [
    "Because the setvar() command can evalute `$()` style bash shell substitutions, we will use it to submit our job. This will capture the output of the submit command, and allow us to parse it for the JOB_ID. We'll use the JOB_ID in several subsequent steps."
   ]
  },
  {
   "cell_type": "code",
   "execution_count": 231,
   "metadata": {},
   "outputs": [
    {
     "data": {
      "text/plain": [
       "'2541425605197426200-242ac114-0001-007'"
      ]
     },
     "execution_count": 231,
     "metadata": {},
     "output_type": "execute_result"
    }
   ],
   "source": [
    "job = ag.jobs.submit(body=jobRequest)\n",
    "job.id\n",
    "# setvar(\"\"\"\n",
    "# # Capture the output of the job submit command\n",
    "# OUTPUT=$(jobs-submit -F job.txt)\n",
    "# # Parse out the job id from the output\n",
    "# JOB_ID=$(echo $OUTPUT | cut -d' ' -f4)\n",
    "# \"\"\")"
   ]
  },
  {
   "cell_type": "markdown",
   "metadata": {},
   "source": [
    "<h2>Job Monitoring and Output</h2>"
   ]
  },
  {
   "cell_type": "markdown",
   "metadata": {},
   "source": [
    "While the job is running, the requestbin you registered will receive webhooks from Agave every time a job event occurs. To monitor this in real time, evaluate the next cell an visit the printed url in your browser:"
   ]
  },
  {
   "cell_type": "code",
   "execution_count": 232,
   "metadata": {},
   "outputs": [
    {
     "name": "stdout",
     "output_type": "stream",
     "text": [
      "https://requestbin.agaveapi.co/191t2li1?inspect\n"
     ]
    }
   ],
   "source": [
    "print ('%s?inspect'%requestbinUrl[0])"
   ]
  },
  {
   "cell_type": "markdown",
   "metadata": {},
   "source": [
    "Of course, you can also monitor the job status by polling. Note that the notifications you receive via email and webhook are less wasteful of resources. However, we show you this for completeness."
   ]
  },
  {
   "cell_type": "code",
   "execution_count": 235,
   "metadata": {
    "scrolled": false
   },
   "outputs": [
    {
     "name": "stdout",
     "output_type": "stream",
     "text": [
      "FINISHED\n"
     ]
    }
   ],
   "source": [
    "for iter in range(40):\n",
    "    stat = ag.jobs.get(jobId=job.id)\n",
    "    print(stat.status)\n",
    "    if stat.status == \"FINISHED\" or stat.status == \"FAILED\":\n",
    "        job = stat;\n",
    "        break\n",
    "    else:\n",
    "        sleep(5.0)"
   ]
  },
  {
   "cell_type": "markdown",
   "metadata": {},
   "source": [
    "The jobs-history command provides you a record of the steps of what your job did. If your job fails for some reason, this is your best diagnostic."
   ]
  },
  {
   "cell_type": "code",
   "execution_count": 236,
   "metadata": {},
   "outputs": [
    {
     "data": {
      "text/plain": [
       "['Job accepted and queued for submission.',\n",
       " 'Skipping staging. No input data associated with this job.',\n",
       " 'Preparing job for submission.',\n",
       " 'Attempt 1 to submit job',\n",
       " 'Fetching app assets from agave://sandbox-storage-dooley/agave-deploy',\n",
       " 'Staging runtime assets to agave://sandbox-exec-dooley//home/jovyan/dooley/job-2541425605197426200-242ac114-0001-007-fork-command-1',\n",
       " 'CLI job successfully forked as process id 2803',\n",
       " 'CLI job successfully forked as process id 2803',\n",
       " 'Job receieved duplicate RUNNING notification',\n",
       " 'Job completed execution',\n",
       " 'Job completed. Skipping archiving at user request.']"
      ]
     },
     "execution_count": 236,
     "metadata": {},
     "output_type": "execute_result"
    }
   ],
   "source": [
    "jobHistory = ag.jobs.getHistory(jobId=job.id)\n",
    "[ h.description for h in jobHistory ]"
   ]
  },
  {
   "cell_type": "markdown",
   "metadata": {},
   "source": [
    "This command shows you the job id's and status of the last 5 jobs you ran."
   ]
  },
  {
   "cell_type": "code",
   "execution_count": 237,
   "metadata": {},
   "outputs": [
    {
     "data": {
      "text/plain": [
       "['2541425605197426200-242ac114-0001-007',\n",
       " '8216704886581423640-242ac114-0001-007',\n",
       " '5093995656431791640-242ac114-0001-007']"
      ]
     },
     "execution_count": 237,
     "metadata": {},
     "output_type": "execute_result"
    }
   ],
   "source": [
    "[ j.id for j in ag.jobs.list(limit=5) ]"
   ]
  },
  {
   "cell_type": "markdown",
   "metadata": {},
   "source": [
    "This next command provides you with a list of all the files generated by your job. You can use it to figure out which files you want to retrieve with jobs-output-get."
   ]
  },
  {
   "cell_type": "code",
   "execution_count": 238,
   "metadata": {},
   "outputs": [
    {
     "data": {
      "text/html": [
       "<div>\n",
       "<table border=\"1\" class=\"dataframe\">\n",
       "  <thead>\n",
       "    <tr style=\"text-align: right;\">\n",
       "      <th></th>\n",
       "      <th>type</th>\n",
       "      <th>length</th>\n",
       "      <th>name</th>\n",
       "    </tr>\n",
       "  </thead>\n",
       "  <tbody>\n",
       "    <tr>\n",
       "      <th>0</th>\n",
       "      <td>file</td>\n",
       "      <td>80</td>\n",
       "      <td>.agave.archive</td>\n",
       "    </tr>\n",
       "    <tr>\n",
       "      <th>1</th>\n",
       "      <td>file</td>\n",
       "      <td>397</td>\n",
       "      <td>.agave.log</td>\n",
       "    </tr>\n",
       "    <tr>\n",
       "      <th>2</th>\n",
       "      <td>file</td>\n",
       "      <td>0</td>\n",
       "      <td>fork-command-1.err</td>\n",
       "    </tr>\n",
       "    <tr>\n",
       "      <th>3</th>\n",
       "      <td>file</td>\n",
       "      <td>2495</td>\n",
       "      <td>fork-command-1.ipcexe</td>\n",
       "    </tr>\n",
       "    <tr>\n",
       "      <th>4</th>\n",
       "      <td>file</td>\n",
       "      <td>6</td>\n",
       "      <td>fork-command-1.out</td>\n",
       "    </tr>\n",
       "    <tr>\n",
       "      <th>5</th>\n",
       "      <td>file</td>\n",
       "      <td>5</td>\n",
       "      <td>fork-command-1.pid</td>\n",
       "    </tr>\n",
       "    <tr>\n",
       "      <th>6</th>\n",
       "      <td>file</td>\n",
       "      <td>29</td>\n",
       "      <td>fork-test.txt</td>\n",
       "    </tr>\n",
       "    <tr>\n",
       "      <th>7</th>\n",
       "      <td>file</td>\n",
       "      <td>22</td>\n",
       "      <td>fork-wrapper.txt</td>\n",
       "    </tr>\n",
       "    <tr>\n",
       "      <th>8</th>\n",
       "      <td>file</td>\n",
       "      <td>0</td>\n",
       "      <td>tmpudzhvpjn</td>\n",
       "    </tr>\n",
       "  </tbody>\n",
       "</table>\n",
       "</div>"
      ],
      "text/plain": [
       "   type  length                   name\n",
       "0  file      80         .agave.archive\n",
       "1  file     397             .agave.log\n",
       "2  file       0     fork-command-1.err\n",
       "3  file    2495  fork-command-1.ipcexe\n",
       "4  file       6     fork-command-1.out\n",
       "5  file       5     fork-command-1.pid\n",
       "6  file      29          fork-test.txt\n",
       "7  file      22       fork-wrapper.txt\n",
       "8  file       0            tmpudzhvpjn"
      ]
     },
     "execution_count": 238,
     "metadata": {},
     "output_type": "execute_result"
    }
   ],
   "source": [
    "jobOutputfileItems = ag.jobs.listOutputs(jobId=job.id, filePath=\".\")\n",
    "df = pd.DataFrame.from_records(jobOutputfileItems, columns=jobOutputfileItems[0].keys())\n",
    "df[['type','length','name']]"
   ]
  },
  {
   "cell_type": "markdown",
   "metadata": {},
   "source": [
    "If you don't have Pandas available, simple columnized data works well too."
   ]
  },
  {
   "cell_type": "code",
   "execution_count": 239,
   "metadata": {},
   "outputs": [
    {
     "name": "stdout",
     "output_type": "stream",
     "text": [
      "Type       Length          Name                               \n",
      "-------------------------------------------------------------------------------\n",
      "file       80              .agave.archive                     \n",
      "file       397             .agave.log                         \n",
      "file       0               fork-command-1.err                 \n",
      "file       2495            fork-command-1.ipcexe              \n",
      "file       6               fork-command-1.out                 \n",
      "file       5               fork-command-1.pid                 \n",
      "file       29              fork-test.txt                      \n",
      "file       22              fork-wrapper.txt                   \n",
      "file       0               tmpudzhvpjn                        \n"
     ]
    }
   ],
   "source": [
    "print(\"{:<10} {:<15} {:<35}\".format(\"Type\", \"Length\", \"Name\"))\n",
    "print(\"-------------------------------------------------------------------------------\")\n",
    "for f in jobOutputfileItems:\n",
    "    print(\"{:<10} {:<15} {:<35}\".format(f.type, f.length, f.name))"
   ]
  },
  {
   "cell_type": "markdown",
   "metadata": {},
   "source": [
    "Retrieve the standard output."
   ]
  },
  {
   "cell_type": "code",
   "execution_count": 240,
   "metadata": {},
   "outputs": [
    {
     "data": {
      "text/plain": [
       "'hello\\n'"
      ]
     },
     "execution_count": 240,
     "metadata": {},
     "output_type": "execute_result"
    }
   ],
   "source": [
    "ag.files.download(systemId=job.executionSystem, filePath=job['outputPath']+\"/fork-command-1.out\").text"
   ]
  },
  {
   "cell_type": "markdown",
   "metadata": {},
   "source": [
    "Retrieve the standard error output."
   ]
  },
  {
   "cell_type": "code",
   "execution_count": 241,
   "metadata": {},
   "outputs": [
    {
     "data": {
      "text/plain": [
       "''"
      ]
     },
     "execution_count": 241,
     "metadata": {},
     "output_type": "execute_result"
    }
   ],
   "source": [
    "ag.files.download(systemId=job.executionSystem, filePath=job['outputPath']+\"/fork-command-1.err\").text"
   ]
  },
  {
   "cell_type": "markdown",
   "metadata": {},
   "source": [
    "<h3>Automating</h3>\n",
    "Because we're working in Python, we can simply glue the above steps together and create a script to run jobs for us and fetch the standard output. Let's do that next."
   ]
  },
  {
   "cell_type": "code",
   "execution_count": 283,
   "metadata": {},
   "outputs": [
    {
     "name": "stdout",
     "output_type": "stream",
     "text": [
      "Overwriting runagavecmd.py\n"
     ]
    }
   ],
   "source": [
    "%%writefile runagavecmd.py\n",
    "from setvar import *\n",
    "from agavepy.agave import Agave\n",
    "from agavepy.async import AgaveAsyncResponse\n",
    "import json\n",
    "import requests\n",
    "requests.packages.urllib3.disable_warnings()\n",
    "\n",
    "def runagavecmd(cmd,infile=None):\n",
    "    \n",
    "    setvar(\"REQUESTBIN_URL=$(requestbin-create)\")\n",
    "    print(\"\")\n",
    "    print(\" ** QUERY STRING FOR REQUESTBIN **\")\n",
    "    print('%s?inspect'%os.environ['REQUESTBIN_URL'])\n",
    "    print(\"\")\n",
    "    requestbinUrl = os.environ['REQUESTBIN_URL']\n",
    "    print(\"\")\n",
    "    \n",
    "    # The input file is an optional parameter, both\n",
    "    # to our function and to the Agave application.\n",
    "    if infile == None:\n",
    "        jobInputs = {};\n",
    "    else:\n",
    "        jobInputs = {\"datafile\": infile}\n",
    "    \n",
    "    # Create the Json for the job file.\n",
    "    jobRequest = {\n",
    "       \"name\": \"fork-command-1\",\n",
    "       \"appId\": \"{}-{}-fork-1.0\".format(os.environ['AGAVE_USERNAME'], os.environ['MACHINE_NAME']),\n",
    "       \"executionSystem\": os.environ['AGAVE_EXECUTION_SYSTEM_ID'],\n",
    "       \"archive\": False,\n",
    "       \"notifications\": [\n",
    "        {\n",
    "          \"url\": requestbinUrl+'?event=${EVENT}&jobid=${JOB_ID}',\n",
    "          \"event\": \"*\",\n",
    "          \"persistent\": True\n",
    "        }\n",
    "       ],\n",
    "       \"parameters\": {\n",
    "         \"command\": cmd\n",
    "       },\n",
    "       \"inputs\": jobInputs\n",
    "     }\n",
    "    \n",
    "    agTokenCache = json.loads(open(os.environ['AGAVE_CACHE_DIR'] + '/current').read())\n",
    "\n",
    "    ag = Agave(token=agTokenCache['access_token'], \n",
    "           refresh_token=agTokenCache['refresh_token'], \n",
    "           api_key=agTokenCache['apikey'], \n",
    "           api_secret=agTokenCache['apisecret'],\n",
    "           api_server=agTokenCache['baseurl'], \n",
    "           client_name=agTokenCache['client_name'],\n",
    "           verify=False)\n",
    "    \n",
    "    print(\"Submitting job request...\")\n",
    "    job = ag.jobs.submit(body=jobRequest)\n",
    "    print(\"Job sucessfully submitted as \" + job.id)\n",
    "\n",
    "    ajob = AgaveAsyncResponse(ag, response=job)\n",
    "    \n",
    "    print(\"Waiting for job to complete... \")\n",
    "    j = ajob.result()\n",
    "    \n",
    "    print(\"All done! Output follows.\")\n",
    "    \n",
    "    print(\"=\" * 70)\n",
    "    \n",
    "    # get the updated job description so the output path is present\n",
    "    job = ag.jobs.get(jobId=job.id)\n",
    "    \n",
    "    # Fetch the job output from the remote machine\n",
    "    print(ag.files.download(systemId=job.executionSystem, filePath=job['outputPath']+\"/fork-command-1.out\").text)\n",
    "    \n",
    "    return job\n",
    "     "
   ]
  },
  {
   "cell_type": "code",
   "execution_count": 284,
   "metadata": {},
   "outputs": [
    {
     "data": {
      "text/plain": [
       "<module 'runagavecmd' from '/home/jovyan/agave/runagavecmd.py'>"
      ]
     },
     "execution_count": 284,
     "metadata": {},
     "output_type": "execute_result"
    }
   ],
   "source": [
    "import runagavecmd as r\n",
    "import imp\n",
    "imp.reload(r)"
   ]
  },
  {
   "cell_type": "code",
   "execution_count": 285,
   "metadata": {},
   "outputs": [
    {
     "name": "stdout",
     "output_type": "stream",
     "text": [
      "REQUESTBIN_URL=https://requestbin.agaveapi.co/1lalxnj1\n",
      "\n",
      " ** QUERY STRING FOR REQUESTBIN **\n",
      "https://requestbin.agaveapi.co/1lalxnj1?inspect\n",
      "\n",
      "\n",
      "Submitting job request...\n",
      "Job sucessfully submitted as 1531628834847714840-242ac114-0001-007\n",
      "Waiting for job to complete... \n",
      "FINISHED\n",
      "All done! Output follows.\n",
      "======================================================================\n",
      "Architecture:          x86_64\n",
      "CPU op-mode(s):        32-bit, 64-bit\n",
      "Byte Order:            Little Endian\n",
      "CPU(s):                2\n",
      "On-line CPU(s) list:   0,1\n",
      "Thread(s) per core:    1\n",
      "Core(s) per socket:    2\n",
      "Socket(s):             1\n",
      "Vendor ID:             GenuineIntel\n",
      "CPU family:            6\n",
      "Model:                 158\n",
      "Model name:            Intel(R) Core(TM) i7-7820HQ CPU @ 2.90GHz\n",
      "Stepping:              9\n",
      "CPU MHz:               2904.000\n",
      "BogoMIPS:              5808.00\n",
      "Hypervisor vendor:     KVM\n",
      "Virtualization type:   full\n",
      "L1d cache:             32K\n",
      "L1i cache:             32K\n",
      "L2 cache:              256K\n",
      "L3 cache:              8192K\n",
      "Flags:                 fpu vme de pse tsc msr pae mce cx8 apic sep mtrr pge mca cmov pat pse36 clflush mmx fxsr sse sse2 ht syscall nx rdtscp lm constant_tsc rep_good nopl xtopology nonstop_tsc pni pclmulqdq ssse3 cx16 pcid sse4_1 sse4_2 movbe popcnt aes xsave avx rdrand hypervisor lahf_lm abm 3dnowprefetch fsgsbase avx2 invpcid rdseed clflushopt\n",
      "\n"
     ]
    }
   ],
   "source": [
    "job = r.runagavecmd(\"lscpu\")"
   ]
  },
  {
   "cell_type": "markdown",
   "metadata": {},
   "source": [
    "<h2>Permissions and Sharing</h3>"
   ]
  },
  {
   "cell_type": "markdown",
   "metadata": {},
   "source": [
    "List the users and the permssions they have to look at the given job."
   ]
  },
  {
   "cell_type": "code",
   "execution_count": 287,
   "metadata": {},
   "outputs": [
    {
     "data": {
      "text/plain": [
       "[\"dooley {'read': True, 'write': True}\"]"
      ]
     },
     "execution_count": 287,
     "metadata": {},
     "output_type": "execute_result"
    }
   ],
   "source": [
    "jobPems = ag.jobs.listPermissions(jobId=job.id)\n",
    "[ \"{} {}\".format(p.username, p.permission) for p in jobPems ]\n"
   ]
  },
  {
   "cell_type": "code",
   "execution_count": 291,
   "metadata": {},
   "outputs": [
    {
     "data": {
      "text/plain": [
       "{'read': True, 'write': False}"
      ]
     },
     "execution_count": 291,
     "metadata": {},
     "output_type": "execute_result"
    }
   ],
   "source": [
    "# now pair off with your neighbor and both of you share your job with them.\n",
    "# For now, just give read access\n",
    "#!jobs-pems-update -u training002 -p READ ${JOB_ID}\n",
    "pem = ag.jobs.updatePermissions(jobId=job.id, body={\"username\":\"training002\",\"permission\":\"READ\"})\n",
    "pem[\"permission\"]"
   ]
  },
  {
   "cell_type": "code",
   "execution_count": 295,
   "metadata": {},
   "outputs": [
    {
     "name": "stdout",
     "output_type": "stream",
     "text": [
      "1653314879115030040-242ac114-0001-007\n"
     ]
    }
   ],
   "source": [
    "# Now let's see if we can see our neighbor's job\n",
    "# Now let's see if we can see our neighbor's job\n",
    "#shared_job = !jobs-search --filter=id owner.neq=${AGAVE_USERNAME} \n",
    "sharedJob = ag.jobs.list(search={\"owner.neq\":os.environ['AGAVE_USERNAME']}, filter=\"id\")[0]\n",
    "os.environ['SHARED_JOB_ID'] = sharedJob.id\n",
    "print(os.environ['SHARED_JOB_ID'])"
   ]
  },
  {
   "cell_type": "markdown",
   "metadata": {},
   "source": [
    "Permissions are just that, permitting someone to do something. You said your neighbor could view your job. Let's see what that means."
   ]
  },
  {
   "cell_type": "code",
   "execution_count": 296,
   "metadata": {},
   "outputs": [
    {
     "data": {
      "text/plain": [
       "{'_links': {'app': {'href': 'https://sandbox.agaveplatform.org/apps/v2/crcollaboratory-shelob-stevenrbrandt2-2.0'},\n",
       "  'archiveData': {'href': 'https://sandbox.agaveplatform.org/jobs/v2/1653314879115030040-242ac114-0001-007/outputs/listings'},\n",
       "  'archiveSystem': {'href': 'https://sandbox.agaveplatform.org/systems/v2/shelob-exec-stevenrbrandt2'},\n",
       "  'executionSystem': {'href': 'https://sandbox.agaveplatform.org/systems/v2/shelob-exec-stevenrbrandt2'},\n",
       "  'history': {'href': 'https://sandbox.agaveplatform.org/jobs/v2/1653314879115030040-242ac114-0001-007/history'},\n",
       "  'metadata': {'href': 'https://sandbox.agaveplatform.org/meta/v2/data/?q=%7B%22associationIds%22%3A%221653314879115030040-242ac114-0001-007%22%7D'},\n",
       "  'notifications': {'href': 'https://sandbox.agaveplatform.org/notifications/v2/?associatedUuid=1653314879115030040-242ac114-0001-007'},\n",
       "  'owner': {'href': 'https://sandbox.agaveplatform.org/profiles/v2/syuan'},\n",
       "  'permissions': {'href': 'https://sandbox.agaveplatform.org/jobs/v2/1653314879115030040-242ac114-0001-007/pems'},\n",
       "  'self': {'href': 'https://sandbox.agaveplatform.org/jobs/v2/1653314879115030040-242ac114-0001-007'}},\n",
       " 'appId': 'crcollaboratory-shelob-stevenrbrandt2-2.0',\n",
       " 'archive': False,\n",
       " 'batchQueue': 'checkpt',\n",
       " 'created': '2018-07-15T17:10:42.000-05:00',\n",
       " 'endTime': datetime.datetime(2018, 7, 16, 18, 15, 14, tzinfo=tzoffset(None, -18000)),\n",
       " 'executionSystem': 'shelob-exec-stevenrbrandt2',\n",
       " 'id': '1653314879115030040-242ac114-0001-007',\n",
       " 'inputs': {'input tarball': ['agave://shelob-storage-stevenrbrandt23//home/sbrandt/agave-deployment/syuan_2018-07-15_22-11-01/input.tgz']},\n",
       " 'lastUpdated': '2018-07-16T18:15:14.000-05:00',\n",
       " 'localId': '892243.mike3',\n",
       " 'maxRunTime': '01:00:00',\n",
       " 'memoryPerNode': 1.0,\n",
       " 'message': 'Job 1653314879115030040-242ac114-0001-007 did not complete by 2018-07-16T18:15:14.000-05:00. Job cancelled.',\n",
       " 'name': 'job-funwave',\n",
       " 'nodeCount': 1,\n",
       " 'outputPath': '/work/sbrandt/syuan/job-1653314879115030040-242ac114-0001-007-job-funwave',\n",
       " 'owner': 'syuan',\n",
       " 'parameters': {'simagename': 'funwave'},\n",
       " 'processorsPerNode': 8,\n",
       " 'retries': 0,\n",
       " 'startTime': datetime.datetime(2018, 7, 15, 17, 15, 12, tzinfo=tzoffset(None, -18000)),\n",
       " 'status': 'FAILED',\n",
       " 'submitTime': datetime.datetime(2018, 7, 15, 17, 15, 8, tzinfo=tzoffset(None, -18000))}"
      ]
     },
     "execution_count": 296,
     "metadata": {},
     "output_type": "execute_result"
    }
   ],
   "source": [
    "# You already searched for the job and found it, so you should be able to lis\n",
    "# an view the details\n",
    "ag.jobs.get(jobId=sharedJob.id)"
   ]
  },
  {
   "cell_type": "code",
   "execution_count": 307,
   "metadata": {},
   "outputs": [
    {
     "data": {
      "text/plain": [
       "[{'created': datetime.datetime(2018, 7, 15, 17, 10, 43, tzinfo=tzoffset(None, -18000)),\n",
       "  'createdBy': 'syuan',\n",
       "  'description': 'Job accepted and queued for submission.',\n",
       "  'status': 'PENDING'},\n",
       " {'created': datetime.datetime(2018, 7, 15, 17, 10, 44, tzinfo=tzoffset(None, -18000)),\n",
       "  'createdBy': 'syuan',\n",
       "  'description': 'Attempt 1 to stage job inputs',\n",
       "  'status': 'PROCESSING_INPUTS'},\n",
       " {'created': datetime.datetime(2018, 7, 15, 17, 10, 44, tzinfo=tzoffset(None, -18000)),\n",
       "  'createdBy': 'syuan',\n",
       "  'description': 'Identifying input files for staging',\n",
       "  'status': 'PROCESSING_INPUTS'}]"
      ]
     },
     "execution_count": 307,
     "metadata": {},
     "output_type": "execute_result"
    }
   ],
   "source": [
    "# You should also be able to view the history. Here we'll just return the first few \n",
    "# events. Notice the history event showed up history event\n",
    "ag.jobs.getHistory(jobId=sharedJob.id, limit=3)"
   ]
  },
  {
   "cell_type": "code",
   "execution_count": null,
   "metadata": {
    "collapsed": true
   },
   "outputs": [],
   "source": [
    "# You can also view their job output\n",
    "#[ f.name for f in ag.jobs.listOutputs(jobId=sharedJob.id, filePath='.') ]\n",
    "ag.jobs.listOutputs(jobId=sharedJob.id, filePath='.')"
   ]
  },
  {
   "cell_type": "code",
   "execution_count": 317,
   "metadata": {
    "collapsed": true
   },
   "outputs": [],
   "source": [
    "# What if we no longer want to see the job. Let's delete it.\n",
    "ag.jobs.delete(jobId=sharedJob.id)"
   ]
  },
  {
   "cell_type": "markdown",
   "metadata": {},
   "source": [
    "Doah! We can't delete the shared job because we weren't granted write permission."
   ]
  },
  {
   "cell_type": "code",
   "execution_count": 312,
   "metadata": {},
   "outputs": [
    {
     "data": {
      "text/plain": [
       "{'read': True, 'write': True}"
      ]
     },
     "execution_count": 312,
     "metadata": {},
     "output_type": "execute_result"
    }
   ],
   "source": [
    "# Let's grant write access and see what we can do\n",
    "#!jobs-pems-update -u training002 -p READ_WRITE ${JOB_ID}\n",
    "pem = ag.jobs.updatePermissions(jobId=job.id, body={\"username\":\"training002\",\"permission\": \"READ_WRITE\"})\n",
    "pem[\"permission\"]"
   ]
  },
  {
   "cell_type": "code",
   "execution_count": null,
   "metadata": {
    "collapsed": true
   },
   "outputs": [],
   "source": [
    "# Now let's see if we can delete the shared job\n",
    "ag.jobs.delete(jobId=sharedJob.id)"
   ]
  },
  {
   "cell_type": "code",
   "execution_count": 318,
   "metadata": {
    "collapsed": true
   },
   "outputs": [],
   "source": [
    "# Wait, now we don't have anything to work with. \n",
    "# No worries. Agave doens't really delete anything. Your job is still there\n",
    "# We just need to restore it.\n",
    "resp = ag.jobs.manage(jobId=sharedJob.id, body={\"action\":\"restore\"})"
   ]
  },
  {
   "cell_type": "code",
   "execution_count": 324,
   "metadata": {},
   "outputs": [
    {
     "data": {
      "text/plain": [
       "['Job was deleted by user dooley', 'Job was restored by dooley']"
      ]
     },
     "execution_count": 324,
     "metadata": {},
     "output_type": "execute_result"
    }
   ],
   "source": [
    "# of ocurse, you can always go back and see what happened by querying the job history\n",
    "jobHistory = ag.jobs.getHistory(jobId=sharedJob.id)\n",
    "[ h.description for h in jobHistory[-2:] ]"
   ]
  },
  {
   "cell_type": "code",
   "execution_count": 325,
   "metadata": {
    "collapsed": true
   },
   "outputs": [],
   "source": [
    "# Now let's try to rerun the job\n",
    "resubmittedJob = ag.jobs.manage(jobId=sharedJob.id, body={\"action\":\"resubmit\"})"
   ]
  },
  {
   "cell_type": "code",
   "execution_count": 330,
   "metadata": {
    "collapsed": true
   },
   "outputs": [],
   "source": [
    "# Well, what app did they use in the job?\n",
    "sharedJobDetails = ag.jobs.get(jobId=sharedJob.id)"
   ]
  },
  {
   "cell_type": "code",
   "execution_count": 332,
   "metadata": {},
   "outputs": [],
   "source": [
    "# Hmm, do we have access to the app?\n",
    "#! apps-pems-list $SHARED_JOB_APP\n",
    "sharedJobApp = ag.apps.get(appId=sharedJobDetails.appId)"
   ]
  },
  {
   "cell_type": "code",
   "execution_count": 342,
   "metadata": {},
   "outputs": [
    {
     "data": {
      "text/plain": [
       "{'execute': False, 'read': True, 'write': False}"
      ]
     },
     "execution_count": 342,
     "metadata": {},
     "output_type": "execute_result"
    }
   ],
   "source": [
    "# Oh, we don't have permission to even view the app. Guess our job permissions\n",
    "# don't extend to the application. Let's be a good neighbor and share our apps\n",
    "# with each other\n",
    "sharedAppPem = ag.apps.updateApplicationPermissions(appId=sharedJobApp.id, \n",
    "                                                    body={\"username\":\"training002\",\"permission\": \"READ\"})\n",
    "sharedAppPem['permission']"
   ]
  },
  {
   "cell_type": "code",
   "execution_count": 343,
   "metadata": {},
   "outputs": [
    {
     "data": {
      "text/plain": [
       "[{'execute': True, 'read': True, 'write': True}]"
      ]
     },
     "execution_count": 343,
     "metadata": {},
     "output_type": "execute_result"
    }
   ],
   "source": [
    "# Now do we have access to the app?\n",
    "# ! apps-pems-list $SHARED_JOB_APP\n",
    "[ p.permission for p in ag.apps.listPermissions(appId=sharedJobApp.id) if p.username == os.environ['AGAVE_USERNAME'] ]"
   ]
  },
  {
   "cell_type": "code",
   "execution_count": 346,
   "metadata": {},
   "outputs": [
    {
     "data": {
      "text/plain": [
       "{'execute': True, 'read': False, 'write': False}"
      ]
     },
     "execution_count": 346,
     "metadata": {},
     "output_type": "execute_result"
    }
   ],
   "source": [
    "# Score, but wait, do I need execute to run? We should granb that too.\n",
    "# Hmm, do we have access to the app?\n",
    "sharedAppPem = ag.apps.updateApplicationPermissions(appId=sharedJobApp.id, \n",
    "                                                    body={\"username\":\"training002\",\"permission\": \"EXECUTE\"})\n",
    "sharedAppPem['permission']"
   ]
  },
  {
   "cell_type": "code",
   "execution_count": 368,
   "metadata": {},
   "outputs": [
    {
     "name": "stdout",
     "output_type": "stream",
     "text": [
      "{'read': True, 'write': True, 'execute': True}\n"
     ]
    }
   ],
   "source": [
    "# Now do we have access to the app?\n",
    "for p in ag.apps.listPermissions(appId=sharedJobApp.id):\n",
    "    if p.username == os.environ['AGAVE_USERNAME']:\n",
    "        print(p.permission)"
   ]
  },
  {
   "cell_type": "code",
   "execution_count": 349,
   "metadata": {},
   "outputs": [
    {
     "data": {
      "text/plain": [
       "{'execute': True, 'read': True, 'write': False}"
      ]
     },
     "execution_count": 349,
     "metadata": {},
     "output_type": "execute_result"
    }
   ],
   "source": [
    "# I guess permissions aren't hierachical. Now i can execute it (I think), but I can't\n",
    "# read it. How aabout we grant read_execute instead\n",
    "sharedAppPem = ag.apps.updateApplicationPermissions(appId=sharedJobApp.id, \n",
    "                                                    body={\"username\":\"training002\",\"permission\": \"READ_EXECUTE\"})\n",
    "sharedAppPem['permission']"
   ]
  },
  {
   "cell_type": "code",
   "execution_count": 350,
   "metadata": {},
   "outputs": [
    {
     "data": {
      "text/plain": [
       "[{'execute': True, 'read': True, 'write': True}]"
      ]
     },
     "execution_count": 350,
     "metadata": {},
     "output_type": "execute_result"
    }
   ],
   "source": [
    "# Now do we have access to the app?\n",
    "[ p.permission for p in ag.apps.listPermissions(appId=sharedJobApp.id) if p.username == os.environ['AGAVE_USERNAME'] ]"
   ]
  },
  {
   "cell_type": "code",
   "execution_count": null,
   "metadata": {
    "collapsed": true
   },
   "outputs": [],
   "source": [
    "# So now we can rerun our neighbor's job, right\n",
    "resubmittedJob = ag.jobs.manage(jobId=sharedJob.id, body={\"action\":\"resubmit\"})"
   ]
  },
  {
   "cell_type": "code",
   "execution_count": 366,
   "metadata": {},
   "outputs": [
    {
     "name": "stdout",
     "output_type": "stream",
     "text": [
      "stevenrbrandt OWNER\n",
      "syuan USER\n",
      "training002 USER\n"
     ]
    }
   ],
   "source": [
    "# drat. why can't we run now? Do we have system access?\n",
    "for r in ag.systems.listRoles(systemId=sharedJobDetails.executionSystem):\n",
    "    print(\"{} {}\".format(r.username, r.role))"
   ]
  },
  {
   "cell_type": "code",
   "execution_count": 365,
   "metadata": {},
   "outputs": [
    {
     "data": {
      "text/plain": [
       "'training002 USER'"
      ]
     },
     "execution_count": 365,
     "metadata": {},
     "output_type": "execute_result"
    }
   ],
   "source": [
    "# ok, let's skip to the end. we'll just realize we should grant a user rather than guest role\n",
    "# to the system\n",
    "#!systems-roles-addupdate -u training002 -r USER $AGAVE_EXECUTION_SYSTEM_ID\n",
    "systemRoles = ag.systems.updateRoleForUser(systemId=sharedJobDetails.executionSystem, \n",
    "                                           username=\"training002\",\n",
    "                                           body={\"role\": \"USER\"})\n",
    "\"{} {}\".format(systemRoles[0]['username'], systemRoles[0]['role'])"
   ]
  },
  {
   "cell_type": "code",
   "execution_count": 367,
   "metadata": {},
   "outputs": [
    {
     "name": "stdout",
     "output_type": "stream",
     "text": [
      "stevenrbrandt OWNER\n",
      "syuan USER\n",
      "training002 USER\n"
     ]
    }
   ],
   "source": [
    "# that should work, right?\n",
    "for r in ag.systems.listRoles(systemId=sharedJobDetails.executionSystem):\n",
    "    print(\"{} {}\".format(r.username, r.role))"
   ]
  },
  {
   "cell_type": "code",
   "execution_count": null,
   "metadata": {
    "collapsed": true
   },
   "outputs": [],
   "source": [
    "# So can we run the job now?\n",
    "resubmittedJob = ag.jobs.manage(jobId=sharedJob.id, body={\"action\":\"resubmit\"})\n",
    "resubmittedJob.id"
   ]
  },
  {
   "cell_type": "code",
   "execution_count": 371,
   "metadata": {},
   "outputs": [
    {
     "name": "stdout",
     "output_type": "stream",
     "text": [
      "dooley {\"read\": true, \"write\": true}\n"
     ]
    }
   ],
   "source": [
    "# yay. wait, who owns the data?\n",
    "for p in ag.jobs.listPermissions(jobId=resubmittedJob.id):\n",
    "    print(p.username + \" \" + json.dumps(p.permission))"
   ]
  },
  {
   "cell_type": "code",
   "execution_count": 372,
   "metadata": {
    "collapsed": true
   },
   "outputs": [],
   "source": [
    "# mine, mine, mine, mine, mine, mine, mine, mine, mine, mine, mine, mine, mine\n",
    "# kill it, we're moving on.\n",
    "ag.jobs.manage(jobId=sharedJob.id, body={\"action\":\"stop\"})"
   ]
  },
  {
   "cell_type": "markdown",
   "metadata": {},
   "source": [
    "Now we have a job we've run and data we've generated. Let's see how we can share the data\n",
    "with our colleagues. We have already seen that sharing the job with another user will \n",
    "grant that user access to the job outputs. That is a bit of an all or nothing approach. \n",
    "We can also share individual files and folders a couple of different ways. Let's use \n",
    "the standard out file from our job. \n",
    "\n",
    "The hypermedia section of the job output listing has the fully qualified url for the file/folder."
   ]
  },
  {
   "cell_type": "code",
   "execution_count": 398,
   "metadata": {},
   "outputs": [
    {
     "data": {
      "text/plain": [
       "'https://sandbox.agaveplatform.org/jobs/v2/8210673309388238360-242ac114-0001-007/outputs/media/fork-command-1.out'"
      ]
     },
     "execution_count": 398,
     "metadata": {},
     "output_type": "execute_result"
    }
   ],
   "source": [
    "jobStandardOutFileItem = ag.jobs.listOutputs(jobId=job.id, filePath=\"fork-command-1.out\")\n",
    "jobStandardOutFileUrl = jobStandardOutFileItem[0]['_links']['self']['href']\n",
    "jobStandardOutFileUrl"
   ]
  },
  {
   "cell_type": "markdown",
   "metadata": {},
   "source": [
    "We can create a disposable PostIt url to the job file with the PostIts service. PostIts are handy when you want to share a link to a file or API call, but only for a limited time and/or number of uses. Here we create a PostIt that will expire after 3 uses or one day, whichever comes first."
   ]
  },
  {
   "cell_type": "code",
   "execution_count": 402,
   "metadata": {},
   "outputs": [
    {
     "name": "stdout",
     "output_type": "stream",
     "text": [
      "https://sandbox.agaveplatform.org/postits/v2/8fda2b69b33c71472bd89044bae772bc\n"
     ]
    }
   ],
   "source": [
    "postit = ag.postits.create(body={\n",
    "    \"method\": \"GET\",\n",
    "    \"maxUses\": 3,\n",
    "    \"lifetime\": 86400,\n",
    "    \"url\": jobStandardOutFileUrl})\n",
    "\n",
    "# click on the resulting link a few times to see it working.\n",
    "print (postit['_links']['self']['href'])"
   ]
  },
  {
   "cell_type": "markdown",
   "metadata": {},
   "source": [
    "We can also share job data via the Files API. Let's share the job standard out file with each other."
   ]
  },
  {
   "cell_type": "code",
   "execution_count": 396,
   "metadata": {
    "scrolled": true
   },
   "outputs": [
    {
     "name": "stdout",
     "output_type": "stream",
     "text": [
      "training002 {'read': True, 'write': False, 'execute': False}\n"
     ]
    }
   ],
   "source": [
    "job = ag.jobs.get(jobId=job.id)\n",
    "sharedJobOutputPems = ag.files.updatePermissions(systemId=job['executionSystem'], \n",
    "                                                 filePath=job['outputPath']+\"/fork-command-1.out\",\n",
    "                                                 body={\"username\": \"training002\", \"permission\": \"READ\"})[0]\n",
    "print(\"{} {}\".format(sharedJobOutputPems.username, sharedJobOutputPems.permission))"
   ]
  },
  {
   "cell_type": "markdown",
   "metadata": {},
   "source": [
    "Finally, we can publish any file or folder and make it publicly available on the web. "
   ]
  },
  {
   "cell_type": "code",
   "execution_count": 404,
   "metadata": {},
   "outputs": [
    {
     "name": "stdout",
     "output_type": "stream",
     "text": [
      "WORLD {'read': True, 'write': False, 'execute': False}\n"
     ]
    }
   ],
   "source": [
    "worldJobOutputPems = ag.files.updatePermissions(systemId=job['executionSystem'], \n",
    "                                                 filePath=job['outputPath']+\"/fork-command-1.out\",\n",
    "                                                 body={\"username\": \"WORLD\", \"permission\": \"READ\"})[0]\n",
    "print(\"{} {}\".format(worldJobOutputPems.username, worldJobOutputPems.permission))"
   ]
  },
  {
   "cell_type": "markdown",
   "metadata": {},
   "source": [
    "Published data does not require authentication and, as such, is available through a slightly different url structure than unpublished data."
   ]
  },
  {
   "cell_type": "code",
   "execution_count": 417,
   "metadata": {},
   "outputs": [
    {
     "name": "stdout",
     "output_type": "stream",
     "text": [
      "https://sandbox.agaveplatform.org/files/v2/downloads/dooley/system/sandbox-exec-dooley//home/jovyan/dooley/job-8210673309388238360-242ac114-0001-007-fork-command-1/fork-command-1.out\n"
     ]
    }
   ],
   "source": [
    "print(\"{}/files/v2/download/{}/system/{}/{}\".format(os.environ['AGAVE_TENANT_BASEURL'],\n",
    "                                                     os.environ['AGAVE_USERNAME'],\n",
    "                                                     job['executionSystem'],\n",
    "                                                     job['outputPath']+\"/fork-command-1.out\"))"
   ]
  },
  {
   "cell_type": "markdown",
   "metadata": {},
   "source": [
    "That wraps up our primer on sharing job data. Next up, data management."
   ]
  },
  {
   "cell_type": "markdown",
   "metadata": {},
   "source": [
    "### Managing Data\n",
    "\n",
    "You can also use Agave to manage your data\n"
   ]
  },
  {
   "cell_type": "code",
   "execution_count": null,
   "metadata": {
    "collapsed": true
   },
   "outputs": [],
   "source": []
  },
  {
   "cell_type": "code",
   "execution_count": null,
   "metadata": {
    "collapsed": true
   },
   "outputs": [],
   "source": []
  },
  {
   "cell_type": "code",
   "execution_count": null,
   "metadata": {
    "collapsed": true
   },
   "outputs": [],
   "source": []
  },
  {
   "cell_type": "code",
   "execution_count": null,
   "metadata": {
    "collapsed": true
   },
   "outputs": [],
   "source": []
  },
  {
   "cell_type": "code",
   "execution_count": null,
   "metadata": {
    "collapsed": true
   },
   "outputs": [],
   "source": []
  },
  {
   "cell_type": "markdown",
   "metadata": {},
   "source": [
    "## Using the Agave ToGo web portal  \n",
    "\n",
    "Follow the link below to run your job from a web portal."
   ]
  },
  {
   "cell_type": "code",
   "execution_count": null,
   "metadata": {
    "collapsed": true
   },
   "outputs": [],
   "source": [
    "!echo http://togo.agaveplatform.org/app/#/apps/${AGAVE_USERNAME}-${MACHINE_NAME}-fork-1.0/run"
   ]
  },
  {
   "cell_type": "code",
   "execution_count": null,
   "metadata": {
    "collapsed": true
   },
   "outputs": [],
   "source": []
  }
 ],
 "metadata": {
  "kernelspec": {
   "display_name": "Python 3",
   "language": "python",
   "name": "python3"
  },
  "language_info": {
   "codemirror_mode": {
    "name": "ipython",
    "version": 3
   },
   "file_extension": ".py",
   "mimetype": "text/x-python",
   "name": "python",
   "nbconvert_exporter": "python",
   "pygments_lexer": "ipython3",
   "version": "3.6.2"
  }
 },
 "nbformat": 4,
 "nbformat_minor": 2
}
