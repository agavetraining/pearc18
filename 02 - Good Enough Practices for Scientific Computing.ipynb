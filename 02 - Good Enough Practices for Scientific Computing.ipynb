{
 "cells": [
  {
   "cell_type": "markdown",
   "metadata": {},
   "source": [
    "# Good Enough Practices for Scientific Computing\n",
    "\n",
    "Building on our sample application in this tutorial, FUNWAVE-TVD, we will introduce some pragmatically-oriented best practices to help us improve our existing software quality and build towards a fully reproducible digital research and developement process. We will draw heavily from community-drivene recommndations published by organizations such as [The Software Carpentry Foundation](https://software-carpentry.org/), Github, Singularity, RedHat, The Open Science Foundation, The Open Container Initiative, and the FORCE11 Software Citation Working Group. In doing so, we build upon community defined specifications and open source technologies such as [The Scientific File System](https://sci-f.github.io/spec)  an   open community efforts to  while focusing on how to realize them within the context of a tangible use case with technology readily availble to the open science community. In their white paper, \"[Good Enough Practices in Scientific Computing](https://swcarpentry.github.io/good-enough-practices-in-scientific-computing/),\" They succinctly lay out recommenations for a .\n",
    "\n",
    "> Wilson, Greg, Jennifer Bryan, Karen Cranston, Justin Kitzes, Lex Nederbragt, and Tracy K. Teal. “Good Enough Practices in Scientific Computing.” CoRR abs/1609.00037 (2016). http://arxiv.org/abs/1609.00037.  \n",
    "\n",
    "> Smith AM, Katz DS, Niemeyer KE, FORCE11 Software Citation Working Group. (2016) Software citation principles. PeerJ Computer Science 2:e86 https://doi.org/10.7717/peerj-cs.86  \n",
    "\n",
    "> Github. “Making Your Code Citable.” Github Guides (blog), October 2016. https://guides.github.com/activities/citable-code/.\n",
    "\n",
    "> Sochat, Vanessa. “Scientific Filesystem.” The Scientific Filesystem, 8 Jan. 2018, http://sci-f.github.io/.\n",
    "\n"
   ]
  },
  {
   "cell_type": "markdown",
   "metadata": {},
   "source": [
    "### Data Management\n",
    "\n",
    "#### Save the raw data and ensure that raw data is backed up in more than one location.\n",
    "\n",
    "\n",
    "#### Create the data you wish to see in the world  \n",
    "\n",
    "\n",
    "#### Create analysis-friendly data  \n",
    "\n",
    "\n",
    "#### Record all the steps used to process data  \n",
    "\n",
    "\n",
    "#### Submit data to a reputable DOI-issuing repository so that others can access and cite it\n"
   ]
  },
  {
   "cell_type": "markdown",
   "metadata": {},
   "source": [
    "### Software  \n",
    "\n",
    "\n",
    "#### Place a brief explanatory comment at the start of every program  \n",
    "\n",
    "\n",
    "#### Provide a simple example or test data set\n",
    "\n",
    "\n",
    "#### Submit code to a reputable DOI-issuing repository\n",
    "\n",
    "\n"
   ]
  },
  {
   "cell_type": "markdown",
   "metadata": {},
   "source": [
    "### Collaboration  \n",
    "\n",
    "\n",
    "#### Create an overview of your project\n",
    "\n",
    "\n",
    "#### Create a shared \"to-do\" list   \n",
    "\n",
    "\n",
    "#### Decide on communication strategies  \n",
    "\n",
    "\n",
    "#### Make the license explicit   \n",
    "\n",
    "\n",
    "#### Make the project citable  \n",
    "\n",
    "\n"
   ]
  },
  {
   "cell_type": "markdown",
   "metadata": {},
   "source": [
    "### Project Organization  \n",
    "\n",
    "\n",
    "#### Put each project in its own directory, which is named after the project  \n",
    "\n",
    "\n",
    "#### Put text documents associated with the project in the doc directory    \n",
    "\n",
    "\n",
    "#### Put raw data and metadata in a data directory, and files generated during cleanup and analysis in a results directory\n",
    "\n",
    "\n",
    "#### Put project source code in the src directory  \n",
    "\n",
    "\n",
    "#### Put compiled programs in the bin directory  \n",
    "\n",
    "\n",
    "#### Name all files to reflect their content or function   \n",
    "\n",
    "\n"
   ]
  },
  {
   "cell_type": "markdown",
   "metadata": {},
   "source": [
    "### Keeping Track of Changes  \n",
    "\n",
    "\n",
    "#### Back up (almost) everything created by a human being as soon as it is created   \n",
    "\n",
    "\n",
    "#### Share changes frequently  \n",
    "\n",
    "\n",
    "#### Create, maintain, and use a checklist for saving and sharing changes to the project  \n",
    "\n",
    "\n",
    "#### Store each project in a folder that is mirrored off the researcher's working machine     \n",
    "\n",
    "\n"
   ]
  },
  {
   "cell_type": "markdown",
   "metadata": {},
   "source": [
    "### Manual Versioning  \n",
    "\n",
    "\n",
    "#### Add a file called `CHANGELOG.txt` to the project's `docs` subfolder\n",
    "\n",
    "\n",
    "#### Copy the entire project whenever a significant change has been made      \n",
    "\n"
   ]
  },
  {
   "cell_type": "markdown",
   "metadata": {},
   "source": [
    "### Version Control Systems  \n",
    "\n",
    "\n",
    "#### Use a version control system\n",
    "\n",
    "\n",
    "#### What not to put under version control     \n",
    "\n"
   ]
  },
  {
   "cell_type": "markdown",
   "metadata": {},
   "source": [
    "### Manuscripts  \n",
    "\n",
    "\n",
    "#### Write manuscripts using online tools with rich formatting, change tracking, and reference management    \n",
    "\n",
    "\n",
    "#### Write the manuscript in a plain text format that permits version control      \n",
    "\n",
    "\n"
   ]
  },
  {
   "cell_type": "markdown",
   "metadata": {},
   "source": [
    "### Supplementary Materials  \n",
    "\n",
    "Separate the results that you may expect others to reuse (e.g., data in tables, data behind figures) into separate, text-format files in formats such as CSV, JSON, YAML, XML, or HDF5\n",
    "\n"
   ]
  },
  {
   "cell_type": "markdown",
   "metadata": {},
   "source": [
    "### What We Left Out  \n",
    "\n",
    "\n",
    "#### Build Tools\n",
    "\n",
    "\n",
    "#### Unit Tests  \n",
    "\n",
    "\n",
    "#### Continuous Integration  \n",
    "\n",
    "\n",
    "#### Unit Tests  \n",
    "\n",
    "\n",
    "#### Profiling and Performance Tuning  \n",
    "\n",
    "\n",
    "#### Documentation  \n",
    "\n"
   ]
  },
  {
   "cell_type": "code",
   "execution_count": null,
   "metadata": {
    "collapsed": true
   },
   "outputs": [],
   "source": []
  }
 ],
 "metadata": {
  "kernelspec": {
   "display_name": "Python 3",
   "language": "python",
   "name": "python3"
  },
  "language_info": {
   "codemirror_mode": {
    "name": "ipython",
    "version": 3
   },
   "file_extension": ".py",
   "mimetype": "text/x-python",
   "name": "python",
   "nbconvert_exporter": "python",
   "pygments_lexer": "ipython3",
   "version": "3.6.2"
  }
 },
 "nbformat": 4,
 "nbformat_minor": 1
}
