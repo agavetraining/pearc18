{
 "cells": [
  {
   "cell_type": "code",
   "execution_count": 36,
   "metadata": {},
   "outputs": [
    {
     "name": "stdout",
     "output_type": "stream",
     "text": [
      "/home/jovyan/agave\n",
      "Requirement already satisfied: setvar in /opt/conda/lib/python3.6/site-packages\n",
      "\u001b[33mYou are using pip version 9.0.1, however version 10.0.1 is available.\n",
      "You should consider upgrading via the 'pip install --upgrade pip' command.\u001b[0m\n",
      "CMD=jobs-output-get 2343381987797373416-242ac114-0001-007 fork-command-1.out\n",
      "INPUTS={\"datafile\":\"agave://sandbox-storage-dooley/input.txt\"}\n",
      "JOB_FILE=job-remote-19.txt\n",
      "JOB_ID=2343381987797373416-242ac114-0001-007\n",
      "OUTPUT=Successfully submitted job 2343381987797373416-242ac114-0001-007\n",
      "REMOTE_COMMAND=export LD_LIBRARY_PATH=/usr/local/lib && mpirun -np 2 singularity exec ~/singu/funwave-tvd.img /home/install/FUNWAVE-TVD/src/funwave_vessel && tar cvzf singout.tgz output\n",
      "REQUESTBIN_URL=https://requestbin.agaveapi.co/18vfbew1\n",
      "STAT=FINISHED\n",
      "VM_IPADDRESS=18.216.53.253\n",
      "\u001b[1;0mToken for sandbox:dooley successfully refreshed and cached for 14400 seconds\n",
      "855e4160c9545af65a6cdc660667133\u001b[0m\n"
     ]
    }
   ],
   "source": [
    "!mkdir -p ~/agave/funwave-tvd-docker\n",
    "\n",
    "%cd ~/agave\n",
    "\n",
    "!pip3 install setvar\n",
    "\n",
    "import re\n",
    "import os\n",
    "import sys\n",
    "from setvar import *\n",
    "from time import sleep\n",
    "\n",
    "# This cell enables inline plotting in the notebook\n",
    "%matplotlib inline\n",
    "\n",
    "import matplotlib\n",
    "import numpy as np\n",
    "import matplotlib.pyplot as plt\n",
    "loadvar()\n",
    "!auth-tokens-refresh || auth-tokens-create"
   ]
  },
  {
   "cell_type": "markdown",
   "metadata": {},
   "source": [
    "## Creating the Docker Image\n",
    "To start, we need a Dockerfile, which has a number of simple commands.\n",
    "It starts with \"FROM\" which can specify any docker image available from DockerHub. That not only includes basic operating systems such as \"ubunto\", \"fedora\", \"centos\", etc. but specialized containers made by anyone with a dockerhub account. I've provided \"science-base\" which has OpenMPI 2.1.1 and some standard compilers, i.e. gfortran, gcc, and g++.\n",
    "\n",
    "MAINTAINER is a bit of metadata that (hopefully) will allow you to contact the container's creator, if need be.\n",
    "\n",
    "WORKDIR is the dockerfile equivalent of the \"cd\" command. Note that running \"cd\" will not change your directory.\n",
    "\n",
    "RUN simply runs the command that follows. Because the container is saved after each step, we want to avoid creating files that we don't want to keep (we want containers to be as small as possible).\n",
    "\n",
    "USER specifies the user id for running subsequent RUN commands.\n",
    "\n",
    "COPY can be used to copy files into the container from the build directory.\n",
    "\n",
    "ENTRYPOINT is a script that runs when the container starts up. What our script does is create a new user on the docker image with a user id and name that is convenient."
   ]
  },
  {
   "cell_type": "code",
   "execution_count": 37,
   "metadata": {},
   "outputs": [
    {
     "name": "stdout",
     "output_type": "stream",
     "text": [
      "Writing file `funwave-tvd-docker/Dockerfile'\n"
     ]
    }
   ],
   "source": [
    "writefile(\"funwave-tvd-docker/Dockerfile\",\"\"\"\n",
    "FROM stevenrbrandt/science-base\n",
    "\n",
    "LABEL baseImage=\"stevenrbrandt/science-base:latest\"\n",
    "LABEL version=\"3\"\n",
    "LABEL software=\"FUNWAVE-TVD\"\n",
    "LABEL softwareVersion=\"v3.2-beta\"\n",
    "LABEL description=\"FUNWAVE–TVD is the TVD version of the fully nonlinear Boussinesq wave model (FUNWAVE) initially developed by Kirby et al. (1998)\"\n",
    "LABEL website=\"https://fengyanshi.github.io/build/html/index.html\"\n",
    "LABEL documentation=\"https://fengyanshi.github.io/build/html/index.html\"\n",
    "LABEL license=\"BSD 3-Clause\"\n",
    "LABEL tags=\"crc,fortran,tvd\"\n",
    "\n",
    "MAINTAINER Steven R. Brandt <sbrandt@cct.lsu.edu>\n",
    "\n",
    "USER root\n",
    "RUN mkdir -p /home/install\n",
    "RUN chown jovyan /home/install\n",
    "USER jovyan\n",
    "\n",
    "RUN cd /home/install && \\\n",
    "    git clone https://github.com/fengyanshi/FUNWAVE-TVD && \\\n",
    "    cd FUNWAVE-TVD/src && \\\n",
    "    perl -p -i -e 's/FLAG_8 = -DCOUPLING/#$&/' Makefile && \\\n",
    "    make\n",
    "\n",
    "WORKDIR /home/install/FUNWAVE-TVD/src\n",
    "RUN mkdir -p /home/jovyan/rundir\n",
    "WORKDIR /home/jovyan/rundir\n",
    "\"\"\")"
   ]
  },
  {
   "cell_type": "markdown",
   "metadata": {},
   "source": [
    "Now that we've create our Dockerfile and entrypoint.sh, bundle them up in a tarball and send them somewhere that agave can access them."
   ]
  },
  {
   "cell_type": "code",
   "execution_count": 38,
   "metadata": {},
   "outputs": [
    {
     "name": "stdout",
     "output_type": "stream",
     "text": [
      "\u001b[1;0mSuccessfully created folder funwave-tvd-docker\u001b[0m\n",
      "Uploading dockerjob.tgz...\n",
      "######################################################################## 100.0%\n"
     ]
    }
   ],
   "source": [
    "!tar -czf dockerjob.tgz -C funwave-tvd-docker Dockerfile\n",
    "!files-mkdir -S ${AGAVE_STORAGE_SYSTEM_ID} -N funwave-tvd-docker\n",
    "!files-upload -F dockerjob.tgz -S ${AGAVE_STORAGE_SYSTEM_ID} funwave-tvd-docker/"
   ]
  },
  {
   "cell_type": "code",
   "execution_count": 39,
   "metadata": {},
   "outputs": [
    {
     "data": {
      "text/plain": [
       "<module 'runagavecmd' from '/home/jovyan/agave/runagavecmd.py'>"
      ]
     },
     "execution_count": 39,
     "metadata": {},
     "output_type": "execute_result"
    }
   ],
   "source": [
    "import runagavecmd as r\n",
    "import imp\n",
    "imp.reload(r)"
   ]
  },
  {
   "cell_type": "markdown",
   "metadata": {},
   "source": [
    "Run the docker build command. We will \"tag\" this build with the name \"funwave-tvd\" when it is complete."
   ]
  },
  {
   "cell_type": "code",
   "execution_count": 40,
   "metadata": {},
   "outputs": [
    {
     "name": "stdout",
     "output_type": "stream",
     "text": [
      "REMOTE_COMMAND=tar xzf dockerjob.tgz && sudo docker build --rm -t jovyan/funwave-tvd-2:latest .\n",
      "REQUESTBIN_URL=https://requestbin.agaveapi.co/1hyqe2c1\n",
      "\n",
      " ** QUERY STRING FOR REQUESTBIN **\n",
      "https://requestbin.agaveapi.co/1hyqe2c1?inspect\n",
      "\n",
      "INPUTS={\"datafile\":\"agave://sandbox-storage-dooley/funwave-tvd-docker/dockerjob.tgz\"}\n",
      "JOB_FILE=job-remote-19.txt\n",
      "Writing file `job-remote-19.txt'\n",
      "OUTPUT=Successfully submitted job 7423258061834949096-242ac114-0001-007\n",
      "JOB_ID=7423258061834949096-242ac114-0001-007\n",
      "STAT=PENDING\n",
      "STAT=PROCESSING_INPUTS\n",
      "STAT=STAGING_INPUTS\n",
      "STAT=SUBMITTING\n",
      "STAT=SUBMITTING\n",
      "STAT=SUBMITTING\n",
      "STAT=SUBMITTING\n",
      "STAT=RUNNING\n",
      "STAT=FINISHED\n",
      "CMD=jobs-output-get 7423258061834949096-242ac114-0001-007 fork-command-1.out\n",
      "All done! Output follows.\n",
      "Reading file `fork-command-1.out'\n",
      "======================================================================\n",
      "Sending build context to Docker daemon  13.82kB\n",
      "\n",
      "Step 1/19 : FROM stevenrbrandt/science-base\n",
      " ---> e93db47f971c\n",
      "Step 2/19 : LABEL baseImage \"stevenrbrandt/science-base:latest\"\n",
      " ---> Using cache\n",
      " ---> 1fe963ea7582\n",
      "Step 3/19 : LABEL version \"3\"\n",
      " ---> Using cache\n",
      " ---> f8e945f44a9c\n",
      "Step 4/19 : LABEL software \"FUNWAVE-TVD\"\n",
      " ---> Using cache\n",
      " ---> 8b997217e1ed\n",
      "Step 5/19 : LABEL softwareVersion \"v3.2-beta\"\n",
      " ---> Using cache\n",
      " ---> 2f274303db68\n",
      "Step 6/19 : LABEL description \"FUNWAVE–TVD is the TVD version of the fully nonlinear Boussinesq wave model (FUNWAVE) initially developed by Kirby et al. (1998)\"\n",
      " ---> Using cache\n",
      " ---> 33d2ef1660e5\n",
      "Step 7/19 : LABEL website \"https://fengyanshi.github.io/build/html/index.html\"\n",
      " ---> Using cache\n",
      " ---> 3f84e5ec0aaa\n",
      "Step 8/19 : LABEL documentation \"https://fengyanshi.github.io/build/html/index.html\"\n",
      " ---> Using cache\n",
      " ---> 4585eb02a0b3\n",
      "Step 9/19 : LABEL license \"BSD 3-Clause\"\n",
      " ---> Using cache\n",
      " ---> cd34db9a1efb\n",
      "Step 10/19 : LABEL tags \"crc,fortran,tvd\"\n",
      " ---> Using cache\n",
      " ---> 2ebcbf528582\n",
      "Step 11/19 : MAINTAINER Steven R. Brandt <sbrandt@cct.lsu.edu>\n",
      " ---> Using cache\n",
      " ---> 16e682d83250\n",
      "Step 12/19 : USER root\n",
      " ---> Using cache\n",
      " ---> ac1e30e69e4a\n",
      "Step 13/19 : RUN mkdir -p /home/install\n",
      " ---> Using cache\n",
      " ---> 6b1c4cb40af9\n",
      "Step 14/19 : RUN chown jovyan /home/install\n",
      " ---> Using cache\n",
      " ---> b6c10b7b2ec9\n",
      "Step 15/19 : USER jovyan\n",
      " ---> Using cache\n",
      " ---> af6910240894\n",
      "Step 16/19 : RUN cd /home/install &&     git clone https://github.com/fengyanshi/FUNWAVE-TVD &&     cd FUNWAVE-TVD/src &&     perl -p -i -e 's/FLAG_8 = -DCOUPLING/#$&/' Makefile &&     make\n",
      " ---> Using cache\n",
      " ---> 55bbac42b3ca\n",
      "Step 17/19 : WORKDIR /home/install/FUNWAVE-TVD/src\n",
      " ---> Using cache\n",
      " ---> cd188a3cc8cc\n",
      "Step 18/19 : RUN mkdir -p /home/jovyan/rundir\n",
      " ---> Using cache\n",
      " ---> f42f46ab47e2\n",
      "Step 19/19 : WORKDIR /home/jovyan/rundir\n",
      " ---> Using cache\n",
      " ---> 34d25d6a8ce1\n",
      "Successfully built 34d25d6a8ce1\n",
      "Successfully tagged jovyan/funwave-tvd-2:latest\n",
      "\n"
     ]
    }
   ],
   "source": [
    "r.runagavecmd(\n",
    "    \"tar xzf dockerjob.tgz && sudo docker build --rm -t jovyan/funwave-tvd-2:latest .\",\n",
    "    \"agave://${AGAVE_STORAGE_SYSTEM_ID}/funwave-tvd-docker/dockerjob.tgz\"\n",
    ")"
   ]
  },
  {
   "cell_type": "code",
   "execution_count": 41,
   "metadata": {
    "collapsed": true
   },
   "outputs": [],
   "source": [
    "!jobs-output-get -P ${JOB_ID} fork-command-1.err"
   ]
  },
  {
   "cell_type": "markdown",
   "metadata": {},
   "source": [
    "## Running the Docker Image\n",
    "It is possible to run docker interactively, but that isn't convenient inside scripts. So instead, we start it in detached mode, with the -d flag.\n",
    "\n",
    "Because your docker image has its own internal file system, it can't see files on the host machine. You can, however, transfer them using the \"docker cp\" command.\n",
    "\n",
    "Running docker is slightly tricky. When a Docker image starts up, you can execute any command you want--but when you type \"exit\" all the changes you've made to the file system vanish.\n",
    "\n",
    "The traditional solution would be to create a volume on the host Therefore it's necessary to copy them out before the docker container stops."
   ]
  },
  {
   "cell_type": "code",
   "execution_count": null,
   "metadata": {},
   "outputs": [],
   "source": [
    "writefile(\"rundock.sh\",\"\"\"\n",
    "rm -fr cid.txt out.tgz\n",
    "\n",
    "# Start a docker image running in detached mode, write the container id to cid.txt\n",
    "sudo docker run -d -it --rm --cidfile cid.txt jovyan/funwave-tvd-2:latest bash\n",
    "\n",
    "# Store the container id in CID for convenience\n",
    "CID=\\$(cat cid.txt)\n",
    "\n",
    "# Copy the input.txt file into the running image\n",
    "sudo docker cp input.txt \\$CID:/home/jovyan/rundir/\n",
    "\n",
    "# Run funwave on the image\n",
    "sudo docker exec --user jovyan \\$CID mpirun -np 2 /home/install/FUNWAVE-TVD/src/funwave_vessel\n",
    "\n",
    "# Extract the output files from the running image\n",
    "# Having them in a tgz makes it more convenient to fetch them with jobs-output-get\n",
    "sudo docker exec --user jovyan \\$CID tar czf - output > out.tgz\n",
    "\n",
    "# Stop the image\n",
    "sudo docker stop \\$CID\n",
    "\n",
    "# List the output files\n",
    "tar tzf out.tgz\n",
    "\"\"\")"
   ]
  },
  {
   "cell_type": "markdown",
   "metadata": {},
   "source": [
    "Upload the input.txt file and the rundock.sh script."
   ]
  },
  {
   "cell_type": "code",
   "execution_count": null,
   "metadata": {},
   "outputs": [],
   "source": [
    "!tar czf rundock.tgz rundock.sh input.txt\n",
    "!files-upload -F rundock.tgz -S ${AGAVE_STORAGE_SYSTEM_ID} funwave-tvd-docker/"
   ]
  },
  {
   "cell_type": "markdown",
   "metadata": {},
   "source": [
    "Execute the rundock.sh script"
   ]
  },
  {
   "cell_type": "code",
   "execution_count": null,
   "metadata": {},
   "outputs": [],
   "source": [
    "r.runagavecmd(\n",
    "    \"tar xzf rundock.tgz && bash rundock.sh\",\n",
    "    \"agave://${AGAVE_STORAGE_SYSTEM_ID}/funwave-tvd-docker/rundock.tgz\")"
   ]
  },
  {
   "cell_type": "markdown",
   "metadata": {},
   "source": [
    "Get the output of the job back to our local machine"
   ]
  },
  {
   "cell_type": "code",
   "execution_count": null,
   "metadata": {},
   "outputs": [],
   "source": [
    "!jobs-output-list ${JOB_ID}\n",
    "!jobs-output-get ${JOB_ID} out.tgz\n",
    "!tar xzf out.tgz"
   ]
  },
  {
   "cell_type": "code",
   "execution_count": null,
   "metadata": {},
   "outputs": [],
   "source": [
    "!head output/eta_00001"
   ]
  },
  {
   "cell_type": "markdown",
   "metadata": {},
   "source": [
    "## Running with Singularity\n",
    "If we have a public docker image, we can run it directly with Singularity. Singularity is desiged to be more HPC friendly than Docker. First, because it doesn't allow the running user to access any user id but their own inside the container, and second, because singularity images can be run through MPI, making it easier to scale up to a distributed cluser.\n",
    "\n",
    "In this first step, we build the singularity installation. Because the result of this job is intended to be an installation for subsequent jobs, we install it to a hard-coded directory rather than using the normal Agave job directory."
   ]
  },
  {
   "cell_type": "code",
   "execution_count": null,
   "metadata": {},
   "outputs": [],
   "source": [
    "!files-mkdir -S ${AGAVE_STORAGE_SYSTEM_ID} -N sing\n",
    "!files-upload -F input.txt -S ${AGAVE_STORAGE_SYSTEM_ID} sing/\n",
    "r.runagavecmd(\n",
    "            \"mkdir -p ~/singu && \"+\n",
    "            \"cd ~/singu && \"+\n",
    "            \"rm -f funwave-tvd.img && \"+\n",
    "            \"sudo singularity build funwave-tvd.img docker://jovyan/funwave-tvd-2:latest\")"
   ]
  },
  {
   "cell_type": "markdown",
   "metadata": {},
   "source": [
    "Now that the Singularity image is built, we can run it with mpi. Notice that mpi executes the singularity command. The tricky part here is to make sure you've got the same version of mpi running inside and outside the container."
   ]
  },
  {
   "cell_type": "code",
   "execution_count": null,
   "metadata": {},
   "outputs": [],
   "source": [
    "!files-upload -F input.txt -S ${AGAVE_STORAGE_SYSTEM_ID} ./\n",
    "r.runagavecmd(\n",
    "    \"export LD_LIBRARY_PATH=/usr/local/lib && \"+\n",
    "    \"mpirun -np 2 singularity exec ~/singu/funwave-tvd.img /home/install/FUNWAVE-TVD/src/funwave_vessel && \"+\n",
    "    \"tar cvzf singout.tgz output\",\n",
    "    \"agave://${AGAVE_STORAGE_SYSTEM_ID}/input.txt\"\n",
    ")"
   ]
  },
  {
   "cell_type": "code",
   "execution_count": null,
   "metadata": {},
   "outputs": [],
   "source": [
    "#!jobs-output-list --rich ${JOB_ID}\n",
    "!jobs-output-get -P ${JOB_ID}  fork-command-1.err\n",
    "#!rm -fr output\n",
    "#!tar xzf singout.tgz"
   ]
  },
  {
   "cell_type": "code",
   "execution_count": null,
   "metadata": {},
   "outputs": [],
   "source": [
    "!head output/v_00003"
   ]
  },
  {
   "cell_type": "markdown",
   "metadata": {},
   "source": [
    "In this next and final singularity example, we get around the problem of needing to port MPI by using the same MPI that's in the container to launch the containers. The trick is this code, which comes at the end of the .bashrc. What it does is effectively replace our shell on the machine with an execution of bash inside the singularity image.\n",
    "\n",
    "```\n",
    "# Put the full path to a singularity image in the file $HOME/sing.txt.\n",
    "if [ -r $HOME/work/sing.txt ]\n",
    "then\n",
    "    IMAGE=$(cat $HOME/work/sing.txt)\n",
    "fi\n",
    "if [ \"$IMAGE\" != \"\" ]\n",
    "then\n",
    "    if [ -r \"$IMAGE\" ]\n",
    "    then\n",
    "        # If the SINGULARITY_CONTAINER variable is set,\n",
    "        # then we are already in the container\n",
    "        if [ \"$SINGULARITY_CONTAINER\" == \"\" ]\n",
    "        then\n",
    "            # Switch to running inside singularity\n",
    "            exec singularity exec $IMAGE bash --login\n",
    "        fi\n",
    "    else\n",
    "        echo Could not read image file $IMAGE\n",
    "    fi\n",
    "fi\n",
    "```"
   ]
  },
  {
   "cell_type": "code",
   "execution_count": null,
   "metadata": {
    "collapsed": true
   },
   "outputs": [],
   "source": [
    "!echo /home/jovyan/singu/funwave-tvd.img > ~/work/sing.txt"
   ]
  },
  {
   "cell_type": "markdown",
   "metadata": {},
   "source": [
    "There's no need to call singularity explicitly, as it's called by each invocation of .bashrc. Note that the funwave-tvd we are executing is the one from inside the image."
   ]
  },
  {
   "cell_type": "code",
   "execution_count": null,
   "metadata": {},
   "outputs": [],
   "source": [
    "!files-upload -F input.txt -S ${AGAVE_STORAGE_SYSTEM_ID} ./\n",
    "r.runagavecmd(\n",
    "    \"rm -fr output && \"+\n",
    "    \"mpirun -np 2 /home/install/FUNWAVE-TVD/src/funwave_vessel && \"+\n",
    "    \"tar cvzf singout.tgz output\",\n",
    "    \"agave://${AGAVE_STORAGE_SYSTEM_ID}/input.txt\"\n",
    ")"
   ]
  },
  {
   "cell_type": "code",
   "execution_count": null,
   "metadata": {},
   "outputs": [],
   "source": [
    "!rm -fr output singout.tgz\n",
    "!jobs-output-get ${JOB_ID} singout.tgz\n",
    "!tar xzf singout.tgz\n",
    "!ls output"
   ]
  },
  {
   "cell_type": "code",
   "execution_count": null,
   "metadata": {
    "collapsed": true
   },
   "outputs": [],
   "source": [
    "# Clean up so that we don't boot into the singularity image without intending to\n",
    "!rm -f ~/work/sing.txt"
   ]
  },
  {
   "cell_type": "code",
   "execution_count": null,
   "metadata": {
    "collapsed": true
   },
   "outputs": [],
   "source": []
  }
 ],
 "metadata": {
  "kernelspec": {
   "display_name": "Python 3",
   "language": "python",
   "name": "python3"
  },
  "language_info": {
   "codemirror_mode": {
    "name": "ipython",
    "version": 3
   },
   "file_extension": ".py",
   "mimetype": "text/x-python",
   "name": "python",
   "nbconvert_exporter": "python",
   "pygments_lexer": "ipython3",
   "version": "3.6.2"
  }
 },
 "nbformat": 4,
 "nbformat_minor": 1
}
